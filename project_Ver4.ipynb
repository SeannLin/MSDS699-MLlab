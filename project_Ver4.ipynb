{
 "cells": [
  {
   "cell_type": "markdown",
   "metadata": {},
   "source": [
    "# Name (as it appears on Canvas)"
   ]
  },
  {
   "cell_type": "markdown",
   "metadata": {
    "ExecuteTime": {
     "end_time": "2021-02-21T01:55:29.571058Z",
     "start_time": "2021-02-21T01:55:29.566930Z"
    }
   },
   "source": [
    "Hsaunyu Sean Lin"
   ]
  },
  {
   "cell_type": "markdown",
   "metadata": {},
   "source": [
    "# Research Question / Hypothesis"
   ]
  },
  {
   "cell_type": "markdown",
   "metadata": {},
   "source": [
    "IEEE - Fraud Detection:\n",
    "\n",
    "use the data features to see if the transaction is fraudulent"
   ]
  },
  {
   "cell_type": "markdown",
   "metadata": {},
   "source": [
    "# Load Data"
   ]
  },
  {
   "cell_type": "code",
   "execution_count": 1,
   "metadata": {
    "ExecuteTime": {
     "end_time": "2021-03-12T18:24:56.134913Z",
     "start_time": "2021-03-12T18:24:54.722669Z"
    }
   },
   "outputs": [],
   "source": [
    "import numpy as np\n",
    "import pandas as pd\n",
    "pd.set_option('display.max_column', 100)\n",
    "\n",
    "from sklearn.model_selection import train_test_split\n",
    "# from sklearn.linear_model import *\n",
    "from sklearn.ensemble import RandomForestClassifier # 2/19\n",
    "from sklearn.tree import DecisionTreeClassifier # 2/19\n",
    "from sklearn.linear_model import PassiveAggressiveClassifier # HW3\n",
    "\n",
    "from sklearn.pipeline import Pipeline\n",
    "from sklearn.preprocessing import *\n",
    "from sklearn.impute import *\n",
    "from sklearn.compose import *\n",
    "from sklearn.metrics import mean_squared_error, accuracy_score"
   ]
  },
  {
   "cell_type": "markdown",
   "metadata": {},
   "source": [
    "# Feature Engineering"
   ]
  },
  {
   "cell_type": "markdown",
   "metadata": {},
   "source": [
    "- No exploratory data analysis (EDA) code in notebook\n",
    "- All feature transformations in a Pipeline. Target transformations can be done outside of a Pipeline.\n",
    "- Appropriate feature engineering for data types and algorithms types\n",
    "- Appropriately handled missing values\n",
    "- Each step has a comment on why it was done."
   ]
  },
  {
   "cell_type": "code",
   "execution_count": null,
   "metadata": {},
   "outputs": [],
   "source": [
    "categorical_columns = (X.dtypes == object)\n",
    "\n",
    "trans_num = FunctionTransformer(np.log1p, validate=False)\n",
    "trans_imp_num = SimpleImputer(missing_values=np.nan, strategy='median', add_indicator=True) # impute the missing values\n",
    "pipe_numerical = Pipeline([('scalar', trans_num), ('imputer', trans_imp_num)])\n",
    "\n",
    "tran_ohe = OneHotEncoder(handle_unknown='ignore')\n",
    "trans_imp_cat = SimpleImputer(strategy='most_frequent', add_indicator=True) # impute the missing values\n",
    "pipe_categorical = Pipeline([('ohe', tran_ohe), ('imputer', trans_imp_cat)])\n",
    "\n",
    "\n",
    "preprocessing = ColumnTransformer([('numerical features',  pipe_numerical, ~categorical_columns),\n",
    "                                   ('categorical features', pipe_categorical,  categorical_columns)])\n"
   ]
  },
  {
   "cell_type": "code",
   "execution_count": null,
   "metadata": {},
   "outputs": [],
   "source": [
    "preprocessing = ColumnTransformer([('numerical features',  pipe_numerical, ~categorical_columns),\n",
    "                                   ('categorical features', pipe_categorical,  categorical_columns)])"
   ]
  },
  {
   "cell_type": "code",
   "execution_count": null,
   "metadata": {},
   "outputs": [],
   "source": [
    "pipe = Pipeline([('preprocessing', preprocessing), ('model', SGDRegressor())])\n",
    "pipe.fit(X_train, y_train)"
   ]
  },
  {
   "cell_type": "markdown",
   "metadata": {},
   "source": [
    "# Fit scikit-learn model"
   ]
  },
  {
   "cell_type": "markdown",
   "metadata": {},
   "source": [
    "## DecisionTreeClassifier"
   ]
  },
  {
   "cell_type": "code",
   "execution_count": 14,
   "metadata": {
    "ExecuteTime": {
     "end_time": "2021-03-12T18:31:27.047245Z",
     "start_time": "2021-03-12T18:31:25.628706Z"
    }
   },
   "outputs": [],
   "source": [
    "# Pipelines\n",
    "\n",
    "# Load and split the data\n",
    "from sklearn.datasets        import load_iris\n",
    "from sklearn.model_selection import train_test_split\n",
    "\n",
    "iris = load_iris()\n",
    "X_train, X_test, y_train, y_test = train_test_split(iris.data, \n",
    "                                                    iris.target, \n",
    "                                                    test_size=0.2)"
   ]
  },
  {
   "cell_type": "code",
   "execution_count": 120,
   "metadata": {
    "ExecuteTime": {
     "end_time": "2021-03-12T19:39:39.809041Z",
     "start_time": "2021-03-12T19:39:39.805155Z"
    }
   },
   "outputs": [],
   "source": [
    "from sklearn.decomposition import PCA\n",
    "from sklearn.preprocessing import StandardScaler\n",
    "from sklearn.pipeline      import Pipeline\n",
    "from sklearn.tree          import DecisionTreeClassifier\n",
    "\n",
    "pipe_dt = Pipeline([('scl', StandardScaler()),\n",
    "                    ('pca', PCA(n_components=2)),\n",
    "                    ('clf', DecisionTreeClassifier())])"
   ]
  },
  {
   "cell_type": "code",
   "execution_count": 121,
   "metadata": {
    "ExecuteTime": {
     "end_time": "2021-03-12T19:39:40.009001Z",
     "start_time": "2021-03-12T19:39:39.996884Z"
    }
   },
   "outputs": [
    {
     "data": {
      "text/html": [
       "<style>div.sk-top-container {color: black;background-color: white;}div.sk-toggleable {background-color: white;}label.sk-toggleable__label {cursor: pointer;display: block;width: 100%;margin-bottom: 0;padding: 0.2em 0.3em;box-sizing: border-box;text-align: center;}div.sk-toggleable__content {max-height: 0;max-width: 0;overflow: hidden;text-align: left;background-color: #f0f8ff;}div.sk-toggleable__content pre {margin: 0.2em;color: black;border-radius: 0.25em;background-color: #f0f8ff;}input.sk-toggleable__control:checked~div.sk-toggleable__content {max-height: 200px;max-width: 100%;overflow: auto;}div.sk-estimator input.sk-toggleable__control:checked~label.sk-toggleable__label {background-color: #d4ebff;}div.sk-label input.sk-toggleable__control:checked~label.sk-toggleable__label {background-color: #d4ebff;}input.sk-hidden--visually {border: 0;clip: rect(1px 1px 1px 1px);clip: rect(1px, 1px, 1px, 1px);height: 1px;margin: -1px;overflow: hidden;padding: 0;position: absolute;width: 1px;}div.sk-estimator {font-family: monospace;background-color: #f0f8ff;margin: 0.25em 0.25em;border: 1px dotted black;border-radius: 0.25em;box-sizing: border-box;}div.sk-estimator:hover {background-color: #d4ebff;}div.sk-parallel-item::after {content: \"\";width: 100%;border-bottom: 1px solid gray;flex-grow: 1;}div.sk-label:hover label.sk-toggleable__label {background-color: #d4ebff;}div.sk-serial::before {content: \"\";position: absolute;border-left: 1px solid gray;box-sizing: border-box;top: 2em;bottom: 0;left: 50%;}div.sk-serial {display: flex;flex-direction: column;align-items: center;background-color: white;}div.sk-item {z-index: 1;}div.sk-parallel {display: flex;align-items: stretch;justify-content: center;background-color: white;}div.sk-parallel-item {display: flex;flex-direction: column;position: relative;background-color: white;}div.sk-parallel-item:first-child::after {align-self: flex-end;width: 50%;}div.sk-parallel-item:last-child::after {align-self: flex-start;width: 50%;}div.sk-parallel-item:only-child::after {width: 0;}div.sk-dashed-wrapped {border: 1px dashed gray;margin: 0.2em;box-sizing: border-box;padding-bottom: 0.1em;background-color: white;position: relative;}div.sk-label label {font-family: monospace;font-weight: bold;background-color: white;display: inline-block;line-height: 1.2em;}div.sk-label-container {position: relative;z-index: 2;text-align: center;}div.sk-container {display: inline-block;position: relative;}</style><div class=\"sk-top-container\"><div class=\"sk-container\"><div class=\"sk-item sk-dashed-wrapped\"><div class=\"sk-label-container\"><div class=\"sk-label sk-toggleable\"><input class=\"sk-toggleable__control sk-hidden--visually\" id=\"5d7c1f70-10d3-4fee-b226-fd2dca344536\" type=\"checkbox\" ><label class=\"sk-toggleable__label\" for=\"5d7c1f70-10d3-4fee-b226-fd2dca344536\">Pipeline</label><div class=\"sk-toggleable__content\"><pre>Pipeline(steps=[('scl', StandardScaler()), ('pca', PCA(n_components=2)),\n",
       "                ('clf', DecisionTreeClassifier())])</pre></div></div></div><div class=\"sk-serial\"><div class=\"sk-item\"><div class=\"sk-estimator sk-toggleable\"><input class=\"sk-toggleable__control sk-hidden--visually\" id=\"c10dd8f6-cef9-4c18-9f60-2e5279d36de6\" type=\"checkbox\" ><label class=\"sk-toggleable__label\" for=\"c10dd8f6-cef9-4c18-9f60-2e5279d36de6\">StandardScaler</label><div class=\"sk-toggleable__content\"><pre>StandardScaler()</pre></div></div></div><div class=\"sk-item\"><div class=\"sk-estimator sk-toggleable\"><input class=\"sk-toggleable__control sk-hidden--visually\" id=\"2f051bdd-e731-48f1-ad52-022a2203d253\" type=\"checkbox\" ><label class=\"sk-toggleable__label\" for=\"2f051bdd-e731-48f1-ad52-022a2203d253\">PCA</label><div class=\"sk-toggleable__content\"><pre>PCA(n_components=2)</pre></div></div></div><div class=\"sk-item\"><div class=\"sk-estimator sk-toggleable\"><input class=\"sk-toggleable__control sk-hidden--visually\" id=\"e3346d5f-e002-4a4d-a210-bc16f9848e85\" type=\"checkbox\" ><label class=\"sk-toggleable__label\" for=\"e3346d5f-e002-4a4d-a210-bc16f9848e85\">DecisionTreeClassifier</label><div class=\"sk-toggleable__content\"><pre>DecisionTreeClassifier()</pre></div></div></div></div></div></div></div>"
      ],
      "text/plain": [
       "Pipeline(steps=[('scl', StandardScaler()), ('pca', PCA(n_components=2)),\n",
       "                ('clf', DecisionTreeClassifier())])"
      ]
     },
     "execution_count": 121,
     "metadata": {},
     "output_type": "execute_result"
    }
   ],
   "source": [
    "# Visualize pipeline\n",
    "# This is good idea for your Final Project\n",
    "\n",
    "from sklearn import set_config\n",
    "\n",
    "set_config(display='diagram')\n",
    "\n",
    "pipe_dt "
   ]
  },
  {
   "cell_type": "code",
   "execution_count": 18,
   "metadata": {
    "ExecuteTime": {
     "end_time": "2021-03-12T04:58:37.008563Z",
     "start_time": "2021-03-12T04:58:37.005255Z"
    }
   },
   "outputs": [],
   "source": [
    "from sklearn.model_selection import cross_val_score, KFold\n",
    "\n",
    "kfold = KFold(n_splits=10, shuffle=True, random_state=42)\n"
   ]
  },
  {
   "cell_type": "code",
   "execution_count": 19,
   "metadata": {
    "ExecuteTime": {
     "end_time": "2021-03-12T04:58:43.642289Z",
     "start_time": "2021-03-12T04:58:43.589125Z"
    }
   },
   "outputs": [],
   "source": [
    "results = cross_val_score(pipe_dt, \n",
    "                          X_train,\n",
    "                          y_train, \n",
    "                          cv=kfold\n",
    ")"
   ]
  },
  {
   "cell_type": "code",
   "execution_count": 20,
   "metadata": {
    "ExecuteTime": {
     "end_time": "2021-03-12T04:58:49.388306Z",
     "start_time": "2021-03-12T04:58:49.384876Z"
    }
   },
   "outputs": [
    {
     "name": "stdout",
     "output_type": "stream",
     "text": [
      "The mean training validation accuracy - 0.8667\n"
     ]
    }
   ],
   "source": [
    "print(f\"The mean training validation accuracy - {results.mean():.4f}\")"
   ]
  },
  {
   "cell_type": "code",
   "execution_count": 21,
   "metadata": {
    "ExecuteTime": {
     "end_time": "2021-03-12T04:58:56.857086Z",
     "start_time": "2021-03-12T04:58:56.852844Z"
    }
   },
   "outputs": [],
   "source": [
    "# Let's search\n",
    "from sklearn.model_selection import RandomizedSearchCV\n",
    "\n",
    "hyperparameters = dict(pca__n_components     = [1, 2, 3],\n",
    "                       clf__max_depth        = range(1, 5),\n",
    "                       clf__criterion        = ['gini', 'entropy'],\n",
    "                       clf__min_samples_leaf = range(3, 15))\n",
    "\n",
    "clf_rand_cv = RandomizedSearchCV(estimator=pipe_dt, \n",
    "                              param_distributions=hyperparameters, \n",
    "                              n_iter=25,\n",
    "                              cv=5, \n",
    "                              n_jobs=-1,\n",
    "                              verbose=False)\n"
   ]
  },
  {
   "cell_type": "code",
   "execution_count": 22,
   "metadata": {
    "ExecuteTime": {
     "end_time": "2021-03-12T04:59:06.832092Z",
     "start_time": "2021-03-12T04:59:04.410417Z"
    }
   },
   "outputs": [
    {
     "data": {
      "text/html": [
       "<style>div.sk-top-container {color: black;background-color: white;}div.sk-toggleable {background-color: white;}label.sk-toggleable__label {cursor: pointer;display: block;width: 100%;margin-bottom: 0;padding: 0.2em 0.3em;box-sizing: border-box;text-align: center;}div.sk-toggleable__content {max-height: 0;max-width: 0;overflow: hidden;text-align: left;background-color: #f0f8ff;}div.sk-toggleable__content pre {margin: 0.2em;color: black;border-radius: 0.25em;background-color: #f0f8ff;}input.sk-toggleable__control:checked~div.sk-toggleable__content {max-height: 200px;max-width: 100%;overflow: auto;}div.sk-estimator input.sk-toggleable__control:checked~label.sk-toggleable__label {background-color: #d4ebff;}div.sk-label input.sk-toggleable__control:checked~label.sk-toggleable__label {background-color: #d4ebff;}input.sk-hidden--visually {border: 0;clip: rect(1px 1px 1px 1px);clip: rect(1px, 1px, 1px, 1px);height: 1px;margin: -1px;overflow: hidden;padding: 0;position: absolute;width: 1px;}div.sk-estimator {font-family: monospace;background-color: #f0f8ff;margin: 0.25em 0.25em;border: 1px dotted black;border-radius: 0.25em;box-sizing: border-box;}div.sk-estimator:hover {background-color: #d4ebff;}div.sk-parallel-item::after {content: \"\";width: 100%;border-bottom: 1px solid gray;flex-grow: 1;}div.sk-label:hover label.sk-toggleable__label {background-color: #d4ebff;}div.sk-serial::before {content: \"\";position: absolute;border-left: 1px solid gray;box-sizing: border-box;top: 2em;bottom: 0;left: 50%;}div.sk-serial {display: flex;flex-direction: column;align-items: center;background-color: white;}div.sk-item {z-index: 1;}div.sk-parallel {display: flex;align-items: stretch;justify-content: center;background-color: white;}div.sk-parallel-item {display: flex;flex-direction: column;position: relative;background-color: white;}div.sk-parallel-item:first-child::after {align-self: flex-end;width: 50%;}div.sk-parallel-item:last-child::after {align-self: flex-start;width: 50%;}div.sk-parallel-item:only-child::after {width: 0;}div.sk-dashed-wrapped {border: 1px dashed gray;margin: 0.2em;box-sizing: border-box;padding-bottom: 0.1em;background-color: white;position: relative;}div.sk-label label {font-family: monospace;font-weight: bold;background-color: white;display: inline-block;line-height: 1.2em;}div.sk-label-container {position: relative;z-index: 2;text-align: center;}div.sk-container {display: inline-block;position: relative;}</style><div class=\"sk-top-container\"><div class=\"sk-container\"><div class=\"sk-item sk-dashed-wrapped\"><div class=\"sk-label-container\"><div class=\"sk-label sk-toggleable\"><input class=\"sk-toggleable__control sk-hidden--visually\" id=\"f56e7887-0cda-46b4-9ada-a0b79bffaeb8\" type=\"checkbox\" ><label class=\"sk-toggleable__label\" for=\"f56e7887-0cda-46b4-9ada-a0b79bffaeb8\">RandomizedSearchCV</label><div class=\"sk-toggleable__content\"><pre>RandomizedSearchCV(cv=5,\n",
       "                   estimator=Pipeline(steps=[('scl', StandardScaler()),\n",
       "                                             ('pca', PCA(n_components=2)),\n",
       "                                             ('clf',\n",
       "                                              DecisionTreeClassifier())]),\n",
       "                   n_iter=25, n_jobs=-1,\n",
       "                   param_distributions={'clf__criterion': ['gini', 'entropy'],\n",
       "                                        'clf__max_depth': range(1, 5),\n",
       "                                        'clf__min_samples_leaf': range(3, 15),\n",
       "                                        'pca__n_components': [1, 2, 3]},\n",
       "                   verbose=False)</pre></div></div></div><div class=\"sk-parallel\"><div class=\"sk-parallel-item\"><div class=\"sk-item\"><div class=\"sk-serial\"><div class=\"sk-item\"><div class=\"sk-serial\"><div class=\"sk-item\"><div class=\"sk-estimator sk-toggleable\"><input class=\"sk-toggleable__control sk-hidden--visually\" id=\"733e8685-1874-42be-8917-86568a625a8a\" type=\"checkbox\" ><label class=\"sk-toggleable__label\" for=\"733e8685-1874-42be-8917-86568a625a8a\">StandardScaler</label><div class=\"sk-toggleable__content\"><pre>StandardScaler()</pre></div></div></div><div class=\"sk-item\"><div class=\"sk-estimator sk-toggleable\"><input class=\"sk-toggleable__control sk-hidden--visually\" id=\"42138cbd-9f10-4ac3-b700-b5616d3a6fe4\" type=\"checkbox\" ><label class=\"sk-toggleable__label\" for=\"42138cbd-9f10-4ac3-b700-b5616d3a6fe4\">PCA</label><div class=\"sk-toggleable__content\"><pre>PCA(n_components=2)</pre></div></div></div><div class=\"sk-item\"><div class=\"sk-estimator sk-toggleable\"><input class=\"sk-toggleable__control sk-hidden--visually\" id=\"97b2e67c-002c-48e5-b008-f9a282f6e94e\" type=\"checkbox\" ><label class=\"sk-toggleable__label\" for=\"97b2e67c-002c-48e5-b008-f9a282f6e94e\">DecisionTreeClassifier</label><div class=\"sk-toggleable__content\"><pre>DecisionTreeClassifier()</pre></div></div></div></div></div></div></div></div></div></div></div></div>"
      ],
      "text/plain": [
       "RandomizedSearchCV(cv=5,\n",
       "                   estimator=Pipeline(steps=[('scl', StandardScaler()),\n",
       "                                             ('pca', PCA(n_components=2)),\n",
       "                                             ('clf',\n",
       "                                              DecisionTreeClassifier())]),\n",
       "                   n_iter=25, n_jobs=-1,\n",
       "                   param_distributions={'clf__criterion': ['gini', 'entropy'],\n",
       "                                        'clf__max_depth': range(1, 5),\n",
       "                                        'clf__min_samples_leaf': range(3, 15),\n",
       "                                        'pca__n_components': [1, 2, 3]},\n",
       "                   verbose=False)"
      ]
     },
     "execution_count": 22,
     "metadata": {},
     "output_type": "execute_result"
    }
   ],
   "source": [
    "clf_rand_cv.fit(X_train, y_train)"
   ]
  },
  {
   "cell_type": "code",
   "execution_count": 23,
   "metadata": {
    "ExecuteTime": {
     "end_time": "2021-03-12T04:59:24.990117Z",
     "start_time": "2021-03-12T04:59:24.985224Z"
    }
   },
   "outputs": [
    {
     "data": {
      "text/plain": [
       "{'pca__n_components': 3,\n",
       " 'clf__min_samples_leaf': 4,\n",
       " 'clf__max_depth': 3,\n",
       " 'clf__criterion': 'gini'}"
      ]
     },
     "execution_count": 23,
     "metadata": {},
     "output_type": "execute_result"
    }
   ],
   "source": [
    "clf_rand_cv.best_params_ "
   ]
  },
  {
   "cell_type": "markdown",
   "metadata": {},
   "source": [
    "## HW5"
   ]
  },
  {
   "cell_type": "code",
   "execution_count": 2,
   "metadata": {
    "ExecuteTime": {
     "end_time": "2021-03-12T18:25:08.734490Z",
     "start_time": "2021-03-12T18:25:08.727003Z"
    }
   },
   "outputs": [],
   "source": [
    "# Imports\n",
    "# Do NOT import anything else\n",
    "import numpy as np\n",
    "import pandas as pd\n",
    "\n",
    "from sklearn.base            import BaseEstimator\n",
    "from sklearn.decomposition   import PCA\n",
    "from sklearn.ensemble        import ExtraTreesClassifier, RandomForestClassifier\n",
    "from sklearn.linear_model    import LogisticRegression, RidgeClassifier\n",
    "from sklearn.metrics         import f1_score # This assignment's metric\n",
    "from sklearn.model_selection import RandomizedSearchCV\n",
    "from sklearn.neighbors       import KNeighborsClassifier\n",
    "from sklearn.naive_bayes     import GaussianNB\n",
    "from sklearn.pipeline        import Pipeline\n",
    "from sklearn.preprocessing   import StandardScaler\n",
    "from sklearn.svm             import SVC\n",
    "from sklearn.impute import SimpleImputer"
   ]
  },
  {
   "cell_type": "code",
   "execution_count": 3,
   "metadata": {
    "ExecuteTime": {
     "end_time": "2021-03-12T18:25:08.981997Z",
     "start_time": "2021-03-12T18:25:08.978348Z"
    }
   },
   "outputs": [],
   "source": [
    "# Helper class (you do not have to use it)\n",
    "class DummyEstimator(BaseEstimator):\n",
    "    \"Pass through class, methods are present but do nothing.\"\n",
    "    def fit(self): pass\n",
    "    def score(self): pass"
   ]
  },
  {
   "cell_type": "code",
   "execution_count": 4,
   "metadata": {
    "ExecuteTime": {
     "end_time": "2021-03-12T18:25:09.480713Z",
     "start_time": "2021-03-12T18:25:09.259724Z"
    }
   },
   "outputs": [],
   "source": [
    "# Load data\n",
    "path = \"./data/\"\n",
    "df = pd.read_csv(path+\"modified.csv\", header=0)"
   ]
  },
  {
   "cell_type": "code",
   "execution_count": 113,
   "metadata": {
    "ExecuteTime": {
     "end_time": "2021-03-12T19:17:16.317028Z",
     "start_time": "2021-03-12T19:17:16.313260Z"
    }
   },
   "outputs": [
    {
     "data": {
      "text/plain": [
       "(5906, 395)"
      ]
     },
     "execution_count": 113,
     "metadata": {},
     "output_type": "execute_result"
    }
   ],
   "source": [
    "df.shape"
   ]
  },
  {
   "cell_type": "code",
   "execution_count": 114,
   "metadata": {
    "ExecuteTime": {
     "end_time": "2021-03-12T19:19:39.183861Z",
     "start_time": "2021-03-12T19:19:39.178538Z"
    }
   },
   "outputs": [],
   "source": [
    "X = df[['TransactionID', 'TransactionDT', 'TransactionAmt', 'card1', 'card2', 'card3', 'card5', 'addr1', 'addr2']] # card4 NAN\n",
    "y = df[['isFraud']].values.ravel()"
   ]
  },
  {
   "cell_type": "code",
   "execution_count": 115,
   "metadata": {
    "ExecuteTime": {
     "end_time": "2021-03-12T19:19:39.537649Z",
     "start_time": "2021-03-12T19:19:39.531628Z"
    }
   },
   "outputs": [],
   "source": [
    "X_train, X_test, y_train, y_test = train_test_split(X, y, test_size=0.1, random_state=999, shuffle=True)"
   ]
  },
  {
   "cell_type": "code",
   "execution_count": 116,
   "metadata": {
    "ExecuteTime": {
     "end_time": "2021-03-12T19:19:40.253355Z",
     "start_time": "2021-03-12T19:19:40.247197Z"
    }
   },
   "outputs": [],
   "source": [
    "tran_num = FunctionTransformer(np.log1p, validate=False)\n",
    "imp_num = SimpleImputer(missing_values=np.nan, strategy='median', add_indicator=True)\n",
    "pipe_num = Pipeline([('scalar', tran_num), ('imputer', imp_num)])\n",
    "\n",
    "tran_ohe = OneHotEncoder(handle_unknown='ignore')\n",
    "imp_cat = SimpleImputer(missing_values=np.nan, strategy='most_frequent', add_indicator=True)\n",
    "pipe_cat = Pipeline([('ohe', tran_ohe), ('imputer', imp_cat)])\n",
    "\n",
    "cols_cat = (X.dtypes == object)\n",
    "\n",
    "preprocessing = ColumnTransformer([('numerical features',  pipe_num, ~cols_cat),\n",
    "                                   ('categorical features', pipe_cat,  cols_cat)])\n",
    "\n",
    "# pipe = Pipeline([('preprocessing', preprocessing), ('model', SGDRegressor())])\n",
    "# pipe.fit(X_train, y_train)"
   ]
  },
  {
   "cell_type": "code",
   "execution_count": 122,
   "metadata": {
    "ExecuteTime": {
     "end_time": "2021-03-12T19:40:40.111362Z",
     "start_time": "2021-03-12T19:40:40.105045Z"
    }
   },
   "outputs": [],
   "source": [
    "# TODO: Show evidence of automated cross validation search across algorithms and hyperparameters\n",
    "\n",
    "# For the sake of time, this code will not be run. \n",
    "# It will be visually inspected for:\n",
    "#  - Clarity\n",
    "#  - Logic\n",
    "#  - Correct use of scikit-learn idioms\n",
    "#  - Breadth of search\n",
    "\n",
    "pipe = Pipeline([('Sca', StandardScaler()),\n",
    "                 ('preprocessing', preprocessing),\n",
    "                 ('clf', DummyEstimator())])\n",
    "\n",
    "search_space = [{'clf': [RandomForestClassifier(n_jobs=-1)], # Actual Estimator\n",
    "                 'clf__n_estimators': np.arange(100, 1000, 150),\n",
    "                 'clf__max_features': ['log2','sqrt'],\n",
    "                 'clf__criterion': ['gini', 'entropy'],\n",
    "                 'clf__max_depth' : np.arange(15,25,1),\n",
    "                 'clf__min_samples_leaf': np.arange(1,10,1),\n",
    "                 'clf__class_weight': ['balanced','balanced_subsample',None]\n",
    "                },\n",
    "                \n",
    "                {'clf': [ExtraTreesClassifier()],  # Actual Estimator\n",
    "                 'clf__max_features': ['log2','sqrt'],\n",
    "                 'clf__criterion': ['gini', 'entropy'],\n",
    "                 'clf__max_depth' : np.arange(15,25,1),\n",
    "                 'clf__n_estimators': np.arange(100, 1000, 150),\n",
    "                 'clf__min_samples_leaf': np.arange(1,10,1)\n",
    "                },\n",
    "                 ]\n",
    "\n",
    "clf_algos_rand = RandomizedSearchCV(estimator=pipe, \n",
    "                                    param_distributions=search_space, \n",
    "                                    n_iter=10,\n",
    "                                    cv=3, \n",
    "                                    n_jobs=-1,\n",
    "                                    verbose=10,\n",
    "                                   scoring='f1_weighted')"
   ]
  },
  {
   "cell_type": "code",
   "execution_count": 123,
   "metadata": {
    "ExecuteTime": {
     "end_time": "2021-03-12T19:40:43.337704Z",
     "start_time": "2021-03-12T19:40:42.936603Z"
    }
   },
   "outputs": [
    {
     "data": {
      "text/html": [
       "<style>div.sk-top-container {color: black;background-color: white;}div.sk-toggleable {background-color: white;}label.sk-toggleable__label {cursor: pointer;display: block;width: 100%;margin-bottom: 0;padding: 0.2em 0.3em;box-sizing: border-box;text-align: center;}div.sk-toggleable__content {max-height: 0;max-width: 0;overflow: hidden;text-align: left;background-color: #f0f8ff;}div.sk-toggleable__content pre {margin: 0.2em;color: black;border-radius: 0.25em;background-color: #f0f8ff;}input.sk-toggleable__control:checked~div.sk-toggleable__content {max-height: 200px;max-width: 100%;overflow: auto;}div.sk-estimator input.sk-toggleable__control:checked~label.sk-toggleable__label {background-color: #d4ebff;}div.sk-label input.sk-toggleable__control:checked~label.sk-toggleable__label {background-color: #d4ebff;}input.sk-hidden--visually {border: 0;clip: rect(1px 1px 1px 1px);clip: rect(1px, 1px, 1px, 1px);height: 1px;margin: -1px;overflow: hidden;padding: 0;position: absolute;width: 1px;}div.sk-estimator {font-family: monospace;background-color: #f0f8ff;margin: 0.25em 0.25em;border: 1px dotted black;border-radius: 0.25em;box-sizing: border-box;}div.sk-estimator:hover {background-color: #d4ebff;}div.sk-parallel-item::after {content: \"\";width: 100%;border-bottom: 1px solid gray;flex-grow: 1;}div.sk-label:hover label.sk-toggleable__label {background-color: #d4ebff;}div.sk-serial::before {content: \"\";position: absolute;border-left: 1px solid gray;box-sizing: border-box;top: 2em;bottom: 0;left: 50%;}div.sk-serial {display: flex;flex-direction: column;align-items: center;background-color: white;}div.sk-item {z-index: 1;}div.sk-parallel {display: flex;align-items: stretch;justify-content: center;background-color: white;}div.sk-parallel-item {display: flex;flex-direction: column;position: relative;background-color: white;}div.sk-parallel-item:first-child::after {align-self: flex-end;width: 50%;}div.sk-parallel-item:last-child::after {align-self: flex-start;width: 50%;}div.sk-parallel-item:only-child::after {width: 0;}div.sk-dashed-wrapped {border: 1px dashed gray;margin: 0.2em;box-sizing: border-box;padding-bottom: 0.1em;background-color: white;position: relative;}div.sk-label label {font-family: monospace;font-weight: bold;background-color: white;display: inline-block;line-height: 1.2em;}div.sk-label-container {position: relative;z-index: 2;text-align: center;}div.sk-container {display: inline-block;position: relative;}</style><div class=\"sk-top-container\"><div class=\"sk-container\"><div class=\"sk-item sk-dashed-wrapped\"><div class=\"sk-label-container\"><div class=\"sk-label sk-toggleable\"><input class=\"sk-toggleable__control sk-hidden--visually\" id=\"9b4640ff-7539-4e2f-9fc2-c4eb0d881b8d\" type=\"checkbox\" ><label class=\"sk-toggleable__label\" for=\"9b4640ff-7539-4e2f-9fc2-c4eb0d881b8d\">Pipeline</label><div class=\"sk-toggleable__content\"><pre>Pipeline(steps=[('Sca', StandardScaler()),\n",
       "                ('preprocessing',\n",
       "                 ColumnTransformer(transformers=[('numerical features',\n",
       "                                                  Pipeline(steps=[('scalar',\n",
       "                                                                   FunctionTransformer(func=<ufunc 'log1p'>)),\n",
       "                                                                  ('imputer',\n",
       "                                                                   SimpleImputer(add_indicator=True,\n",
       "                                                                                 strategy='median'))]),\n",
       "                                                  TransactionID     True\n",
       "TransactionDT     True\n",
       "TransactionAmt    True\n",
       "card1             True\n",
       "card2             True\n",
       "card3             True\n",
       "card5             True\n",
       "addr1             True\n",
       "addr2             True\n",
       "dtype: bool),\n",
       "                                                 ('categorical features',\n",
       "                                                  Pipeline(steps=[('ohe',\n",
       "                                                                   OneHotEncoder(handle_unknown='ignore')),\n",
       "                                                                  ('imputer',\n",
       "                                                                   SimpleImputer(add_indicator=True,\n",
       "                                                                                 strategy='most_frequent'))]),\n",
       "                                                  TransactionID     False\n",
       "TransactionDT     False\n",
       "TransactionAmt    False\n",
       "card1             False\n",
       "card2             False\n",
       "card3             False\n",
       "card5             False\n",
       "addr1             False\n",
       "addr2             False\n",
       "dtype: bool)])),\n",
       "                ('clf', DummyEstimator())])</pre></div></div></div><div class=\"sk-serial\"><div class=\"sk-item\"><div class=\"sk-estimator sk-toggleable\"><input class=\"sk-toggleable__control sk-hidden--visually\" id=\"9ba6ac77-5639-4ab2-a680-a331c2ef5996\" type=\"checkbox\" ><label class=\"sk-toggleable__label\" for=\"9ba6ac77-5639-4ab2-a680-a331c2ef5996\">StandardScaler</label><div class=\"sk-toggleable__content\"><pre>StandardScaler()</pre></div></div></div><div class=\"sk-item sk-dashed-wrapped\"><div class=\"sk-label-container\"><div class=\"sk-label sk-toggleable\"><input class=\"sk-toggleable__control sk-hidden--visually\" id=\"7672e9c6-ba4a-409c-80c6-15e0d2c4081c\" type=\"checkbox\" ><label class=\"sk-toggleable__label\" for=\"7672e9c6-ba4a-409c-80c6-15e0d2c4081c\">preprocessing: ColumnTransformer</label><div class=\"sk-toggleable__content\"><pre>ColumnTransformer(transformers=[('numerical features',\n",
       "                                 Pipeline(steps=[('scalar',\n",
       "                                                  FunctionTransformer(func=<ufunc 'log1p'>)),\n",
       "                                                 ('imputer',\n",
       "                                                  SimpleImputer(add_indicator=True,\n",
       "                                                                strategy='median'))]),\n",
       "                                 TransactionID     True\n",
       "TransactionDT     True\n",
       "TransactionAmt    True\n",
       "card1             True\n",
       "card2             True\n",
       "card3             True\n",
       "card5             True\n",
       "addr1             True\n",
       "addr2             True\n",
       "dtype: bool),\n",
       "                                ('categorical features',\n",
       "                                 Pipeline(steps=[('ohe',\n",
       "                                                  OneHotEncoder(handle_unknown='ignore')),\n",
       "                                                 ('imputer',\n",
       "                                                  SimpleImputer(add_indicator=True,\n",
       "                                                                strategy='most_frequent'))]),\n",
       "                                 TransactionID     False\n",
       "TransactionDT     False\n",
       "TransactionAmt    False\n",
       "card1             False\n",
       "card2             False\n",
       "card3             False\n",
       "card5             False\n",
       "addr1             False\n",
       "addr2             False\n",
       "dtype: bool)])</pre></div></div></div><div class=\"sk-parallel\"><div class=\"sk-parallel-item\"><div class=\"sk-item\"><div class=\"sk-label-container\"><div class=\"sk-label sk-toggleable\"><input class=\"sk-toggleable__control sk-hidden--visually\" id=\"31093b4a-c8d1-4d99-83ed-e33f65b101c8\" type=\"checkbox\" ><label class=\"sk-toggleable__label\" for=\"31093b4a-c8d1-4d99-83ed-e33f65b101c8\">numerical features</label><div class=\"sk-toggleable__content\"><pre>TransactionID     True\n",
       "TransactionDT     True\n",
       "TransactionAmt    True\n",
       "card1             True\n",
       "card2             True\n",
       "card3             True\n",
       "card5             True\n",
       "addr1             True\n",
       "addr2             True\n",
       "dtype: bool</pre></div></div></div><div class=\"sk-serial\"><div class=\"sk-item\"><div class=\"sk-serial\"><div class=\"sk-item\"><div class=\"sk-estimator sk-toggleable\"><input class=\"sk-toggleable__control sk-hidden--visually\" id=\"3379d7c8-150d-4650-927c-5c6399f5ac8b\" type=\"checkbox\" ><label class=\"sk-toggleable__label\" for=\"3379d7c8-150d-4650-927c-5c6399f5ac8b\">FunctionTransformer</label><div class=\"sk-toggleable__content\"><pre>FunctionTransformer(func=<ufunc 'log1p'>)</pre></div></div></div><div class=\"sk-item\"><div class=\"sk-estimator sk-toggleable\"><input class=\"sk-toggleable__control sk-hidden--visually\" id=\"d91199b2-149d-4004-949f-a11bee8e83da\" type=\"checkbox\" ><label class=\"sk-toggleable__label\" for=\"d91199b2-149d-4004-949f-a11bee8e83da\">SimpleImputer</label><div class=\"sk-toggleable__content\"><pre>SimpleImputer(add_indicator=True, strategy='median')</pre></div></div></div></div></div></div></div></div><div class=\"sk-parallel-item\"><div class=\"sk-item\"><div class=\"sk-label-container\"><div class=\"sk-label sk-toggleable\"><input class=\"sk-toggleable__control sk-hidden--visually\" id=\"1304e45e-68c6-424f-87a8-70d2c5f3bb21\" type=\"checkbox\" ><label class=\"sk-toggleable__label\" for=\"1304e45e-68c6-424f-87a8-70d2c5f3bb21\">categorical features</label><div class=\"sk-toggleable__content\"><pre>TransactionID     False\n",
       "TransactionDT     False\n",
       "TransactionAmt    False\n",
       "card1             False\n",
       "card2             False\n",
       "card3             False\n",
       "card5             False\n",
       "addr1             False\n",
       "addr2             False\n",
       "dtype: bool</pre></div></div></div><div class=\"sk-serial\"><div class=\"sk-item\"><div class=\"sk-serial\"><div class=\"sk-item\"><div class=\"sk-estimator sk-toggleable\"><input class=\"sk-toggleable__control sk-hidden--visually\" id=\"71b07f43-e61b-4275-8039-9a43fa8419e0\" type=\"checkbox\" ><label class=\"sk-toggleable__label\" for=\"71b07f43-e61b-4275-8039-9a43fa8419e0\">OneHotEncoder</label><div class=\"sk-toggleable__content\"><pre>OneHotEncoder(handle_unknown='ignore')</pre></div></div></div><div class=\"sk-item\"><div class=\"sk-estimator sk-toggleable\"><input class=\"sk-toggleable__control sk-hidden--visually\" id=\"db953c80-4ded-4113-bb82-857c93f728d6\" type=\"checkbox\" ><label class=\"sk-toggleable__label\" for=\"db953c80-4ded-4113-bb82-857c93f728d6\">SimpleImputer</label><div class=\"sk-toggleable__content\"><pre>SimpleImputer(add_indicator=True, strategy='most_frequent')</pre></div></div></div></div></div></div></div></div></div></div><div class=\"sk-item\"><div class=\"sk-estimator sk-toggleable\"><input class=\"sk-toggleable__control sk-hidden--visually\" id=\"a4faafde-acf6-41fc-a0ae-db1dc153dd0c\" type=\"checkbox\" ><label class=\"sk-toggleable__label\" for=\"a4faafde-acf6-41fc-a0ae-db1dc153dd0c\">DummyEstimator</label><div class=\"sk-toggleable__content\"><pre>DummyEstimator()</pre></div></div></div></div></div></div></div>"
      ],
      "text/plain": [
       "Pipeline(steps=[('Sca', StandardScaler()),\n",
       "                ('preprocessing',\n",
       "                 ColumnTransformer(transformers=[('numerical features',\n",
       "                                                  Pipeline(steps=[('scalar',\n",
       "                                                                   FunctionTransformer(func=<ufunc 'log1p'>)),\n",
       "                                                                  ('imputer',\n",
       "                                                                   SimpleImputer(add_indicator=True,\n",
       "                                                                                 strategy='median'))]),\n",
       "                                                  TransactionID     True\n",
       "TransactionDT     True\n",
       "TransactionAmt    True\n",
       "card1             True\n",
       "card2             True\n",
       "card3             True\n",
       "card5             True\n",
       "addr1             True\n",
       "addr2             True\n",
       "dtype: bool),\n",
       "                                                 ('categorical features',\n",
       "                                                  Pipeline(steps=[('ohe',\n",
       "                                                                   OneHotEncoder(handle_unknown='ignore')),\n",
       "                                                                  ('imputer',\n",
       "                                                                   SimpleImputer(add_indicator=True,\n",
       "                                                                                 strategy='most_frequent'))]),\n",
       "                                                  TransactionID     False\n",
       "TransactionDT     False\n",
       "TransactionAmt    False\n",
       "card1             False\n",
       "card2             False\n",
       "card3             False\n",
       "card5             False\n",
       "addr1             False\n",
       "addr2             False\n",
       "dtype: bool)])),\n",
       "                ('clf', DummyEstimator())])"
      ]
     },
     "execution_count": 123,
     "metadata": {},
     "output_type": "execute_result"
    }
   ],
   "source": [
    "# Visualize pipeline\n",
    "# This is good idea for your Final Project\n",
    "\n",
    "from sklearn import set_config\n",
    "\n",
    "set_config(display='diagram')\n",
    "\n",
    "pipe "
   ]
  },
  {
   "cell_type": "code",
   "execution_count": null,
   "metadata": {},
   "outputs": [],
   "source": []
  },
  {
   "cell_type": "code",
   "execution_count": 118,
   "metadata": {
    "ExecuteTime": {
     "end_time": "2021-03-12T19:20:43.210947Z",
     "start_time": "2021-03-12T19:19:41.941125Z"
    }
   },
   "outputs": [
    {
     "name": "stdout",
     "output_type": "stream",
     "text": [
      "Fitting 3 folds for each of 10 candidates, totalling 30 fits\n"
     ]
    },
    {
     "name": "stderr",
     "output_type": "stream",
     "text": [
      "[Parallel(n_jobs=-1)]: Using backend LokyBackend with 8 concurrent workers.\n",
      "[Parallel(n_jobs=-1)]: Done   2 tasks      | elapsed:    0.8s\n",
      "[Parallel(n_jobs=-1)]: Done   9 tasks      | elapsed:    6.1s\n",
      "[Parallel(n_jobs=-1)]: Done  19 out of  30 | elapsed:   13.2s remaining:    7.7s\n",
      "[Parallel(n_jobs=-1)]: Done  23 out of  30 | elapsed:   15.2s remaining:    4.6s\n",
      "[Parallel(n_jobs=-1)]: Done  27 out of  30 | elapsed:   19.3s remaining:    2.1s\n",
      "[Parallel(n_jobs=-1)]: Done  30 out of  30 | elapsed:   19.8s finished\n",
      "/anaconda3/lib/python3.7/site-packages/sklearn/preprocessing/_function_transformer.py:171: RuntimeWarning: invalid value encountered in log1p\n",
      "  return func(X, **(kw_args if kw_args else {}))\n"
     ]
    },
    {
     "name": "stdout",
     "output_type": "stream",
     "text": [
      "RandomForestClassifier(class_weight='balanced_subsample', criterion='entropy',\n",
      "                       max_depth=19, max_features='log2', n_estimators=700,\n",
      "                       n_jobs=-1)\n",
      "0.9763639473613903\n",
      "Fitting 3 folds for each of 10 candidates, totalling 30 fits\n"
     ]
    },
    {
     "name": "stderr",
     "output_type": "stream",
     "text": [
      "[Parallel(n_jobs=-1)]: Using backend LokyBackend with 8 concurrent workers.\n",
      "[Parallel(n_jobs=-1)]: Done   2 tasks      | elapsed:    1.2s\n",
      "[Parallel(n_jobs=-1)]: Done   9 tasks      | elapsed:    3.9s\n",
      "[Parallel(n_jobs=-1)]: Done  19 out of  30 | elapsed:    7.2s remaining:    4.2s\n",
      "[Parallel(n_jobs=-1)]: Done  23 out of  30 | elapsed:    9.4s remaining:    2.9s\n",
      "[Parallel(n_jobs=-1)]: Done  27 out of  30 | elapsed:   10.6s remaining:    1.2s\n",
      "[Parallel(n_jobs=-1)]: Done  30 out of  30 | elapsed:   11.7s finished\n",
      "/anaconda3/lib/python3.7/site-packages/sklearn/preprocessing/_function_transformer.py:171: RuntimeWarning: invalid value encountered in log1p\n",
      "  return func(X, **(kw_args if kw_args else {}))\n"
     ]
    },
    {
     "name": "stdout",
     "output_type": "stream",
     "text": [
      "RandomForestClassifier(class_weight='balanced_subsample', criterion='entropy',\n",
      "                       max_depth=17, max_features='log2', min_samples_leaf=3,\n",
      "                       n_estimators=550, n_jobs=-1)\n",
      "0.9754639684921975\n",
      "Fitting 3 folds for each of 10 candidates, totalling 30 fits\n"
     ]
    },
    {
     "name": "stderr",
     "output_type": "stream",
     "text": [
      "[Parallel(n_jobs=-1)]: Using backend LokyBackend with 8 concurrent workers.\n",
      "[Parallel(n_jobs=-1)]: Done   2 tasks      | elapsed:    0.9s\n",
      "[Parallel(n_jobs=-1)]: Done   9 tasks      | elapsed:    8.0s\n",
      "[Parallel(n_jobs=-1)]: Done  19 out of  30 | elapsed:   14.7s remaining:    8.5s\n",
      "[Parallel(n_jobs=-1)]: Done  23 out of  30 | elapsed:   16.5s remaining:    5.0s\n",
      "[Parallel(n_jobs=-1)]: Done  27 out of  30 | elapsed:   17.1s remaining:    1.9s\n",
      "[Parallel(n_jobs=-1)]: Done  30 out of  30 | elapsed:   20.5s finished\n",
      "/anaconda3/lib/python3.7/site-packages/sklearn/preprocessing/_function_transformer.py:171: RuntimeWarning: invalid value encountered in log1p\n",
      "  return func(X, **(kw_args if kw_args else {}))\n"
     ]
    },
    {
     "name": "stdout",
     "output_type": "stream",
     "text": [
      "RandomForestClassifier(class_weight='balanced_subsample', max_depth=15,\n",
      "                       max_features='log2', n_estimators=850, n_jobs=-1)\n",
      "0.9764474891165792\n"
     ]
    }
   ],
   "source": [
    "for i in range(3):\n",
    "\n",
    "    best_model = clf_algos_rand.fit(X_train, y_train)\n",
    "\n",
    "    print(best_model.best_estimator_.get_params()['clf'])\n",
    "    print(best_model.best_score_)"
   ]
  },
  {
   "cell_type": "code",
   "execution_count": 112,
   "metadata": {
    "ExecuteTime": {
     "end_time": "2021-03-12T19:17:16.310888Z",
     "start_time": "2021-03-12T19:17:16.305389Z"
    }
   },
   "outputs": [],
   "source": [
    "# TODO: Define pipeline with your set of final hyperparameters for all steps.\n",
    "params = {'bootstrap': False,\n",
    " 'ccp_alpha': 0.0,\n",
    " 'class_weight': 'balanced',\n",
    " 'criterion': 'gini',\n",
    " 'max_depth': 18,\n",
    " 'max_features': 'log2',\n",
    " 'max_leaf_nodes': None,\n",
    " 'max_samples': None,\n",
    " 'min_impurity_decrease': 0.0,\n",
    " 'min_impurity_split': None,\n",
    " 'min_samples_leaf': 2,\n",
    " 'min_samples_split': 2,\n",
    " 'min_weight_fraction_leaf': 0.0,\n",
    " 'n_estimators': 400,\n",
    " 'n_jobs': -1,\n",
    " 'oob_score': False,\n",
    " 'random_state': None,\n",
    " 'verbose': 0,\n",
    " 'warm_start': False}\n",
    "\n",
    "# ExtraTreesClassifier().get_params()\n",
    "\n",
    "pipe = Pipeline([('impute', SimpleImputer(missing_values=np.nan, strategy='most_frequent')),\n",
    "                 ('clf', RandomForestClassifier(**params))])\n",
    "\n",
    "# pipe = Pipeline([('Sca',StandardScaler()),\n",
    "#                  ('impute', SimpleImputer(missing_values=np.nan, strategy='most_frequent')), # median\n",
    "#                  ('clf', DummyEstimator())])"
   ]
  },
  {
   "cell_type": "code",
   "execution_count": 10,
   "metadata": {
    "ExecuteTime": {
     "end_time": "2021-03-12T18:27:43.416910Z",
     "start_time": "2021-03-12T18:27:43.413985Z"
    }
   },
   "outputs": [],
   "source": [
    "# # Expect pipe object\n",
    "# assert \"pipe\" in dir()\n",
    "# assert type(pipe) == Pipeline"
   ]
  },
  {
   "cell_type": "code",
   "execution_count": 66,
   "metadata": {
    "ExecuteTime": {
     "end_time": "2021-03-12T19:00:57.327024Z",
     "start_time": "2021-03-12T19:00:51.653344Z"
    }
   },
   "outputs": [
    {
     "name": "stdout",
     "output_type": "stream",
     "text": [
      "0.98184\n",
      "Passed Level 1 test set performance 🙂\n",
      "Passed Level 2 test set performance 🙂\n",
      "Passed Level 3 test set performance 🙂\n"
     ]
    }
   ],
   "source": [
    "# This code is commented out because you do not have access to the test set\n",
    "\n",
    "# Try final model 5 times and take highest test score. \n",
    "# WARNING - DO NOT DO THIS OUTSIDE OF CLASS. We are looking at the test set mulitple times for educational purposes only. \n",
    "\n",
    "# Set champion to worst possible baseline\n",
    "f1_test_best = 0 \n",
    "\n",
    "for run in range(5):\n",
    "    # Traing final model on all the avaible training data\n",
    "    pipe.fit(X_train, y_train)\n",
    "    \n",
    "    # Evaluate final model on test set\n",
    "#     path = \"./\"\n",
    "#     X_test   = pd.read_csv(path+\"instructor/assignment_5_X_test.csv\", header=0)\n",
    "#     y_test   = pd.read_csv(path+\"instructor/assignment_5_y_test.csv\", header=0)\n",
    "#     y_test   = y_test.values.ravel()\n",
    "    y_pred   = pipe.predict(X_test)\n",
    "    f1_test  = f1_score(y_test, y_pred, average='weighted')\n",
    "    \n",
    "    # Update champion score\n",
    "    if f1_test > f1_test_best:\n",
    "        f1_test_best = f1_test\n",
    "    \n",
    "print(f\"{f1_test_best:,.5f}\")\n",
    "\n",
    "assert f1_test_best >= 0.61\n",
    "print(\"Passed Level 1 test set performance 🙂\")\n",
    "\n",
    "assert f1_test_best >= 0.66\n",
    "print(\"Passed Level 2 test set performance 🙂\")\n",
    "\n",
    "assert f1_test_best >= 0.71\n",
    "print(\"Passed Level 3 test set performance 🙂\")"
   ]
  },
  {
   "cell_type": "markdown",
   "metadata": {},
   "source": [
    "# Evaluation Metric"
   ]
  },
  {
   "cell_type": "code",
   "execution_count": 12,
   "metadata": {
    "ExecuteTime": {
     "end_time": "2021-03-12T04:39:57.655363Z",
     "start_time": "2021-03-12T04:39:57.594574Z"
    }
   },
   "outputs": [],
   "source": [
    "y_pred = pipe.predict(X_test)"
   ]
  },
  {
   "cell_type": "code",
   "execution_count": 13,
   "metadata": {
    "ExecuteTime": {
     "end_time": "2021-03-12T04:39:57.663906Z",
     "start_time": "2021-03-12T04:39:57.657079Z"
    }
   },
   "outputs": [
    {
     "name": "stdout",
     "output_type": "stream",
     "text": [
      "mean squared error: 245.5752742689934\n"
     ]
    }
   ],
   "source": [
    "mse = mean_squared_error(y_test, y_pred)\n",
    "print(f\"mean squared error: {mse:}\")"
   ]
  },
  {
   "cell_type": "code",
   "execution_count": 14,
   "metadata": {
    "ExecuteTime": {
     "end_time": "2021-03-12T04:39:57.748669Z",
     "start_time": "2021-03-12T04:39:57.665744Z"
    }
   },
   "outputs": [
    {
     "ename": "ValueError",
     "evalue": "Classification metrics can't handle a mix of binary and continuous targets",
     "output_type": "error",
     "traceback": [
      "\u001b[0;31m---------------------------------------------------------------------------\u001b[0m",
      "\u001b[0;31mValueError\u001b[0m                                Traceback (most recent call last)",
      "\u001b[0;32m<ipython-input-14-3b6c3018ecbf>\u001b[0m in \u001b[0;36m<module>\u001b[0;34m\u001b[0m\n\u001b[0;32m----> 1\u001b[0;31m \u001b[0maccuracy\u001b[0m \u001b[0;34m=\u001b[0m \u001b[0maccuracy_score\u001b[0m\u001b[0;34m(\u001b[0m\u001b[0my_test\u001b[0m\u001b[0;34m,\u001b[0m \u001b[0my_pred\u001b[0m\u001b[0;34m)\u001b[0m\u001b[0;34m\u001b[0m\u001b[0;34m\u001b[0m\u001b[0m\n\u001b[0m\u001b[1;32m      2\u001b[0m \u001b[0mprint\u001b[0m\u001b[0;34m(\u001b[0m\u001b[0;34mf\"accuracy score: {accuracy:}\"\u001b[0m\u001b[0;34m)\u001b[0m\u001b[0;34m\u001b[0m\u001b[0;34m\u001b[0m\u001b[0m\n",
      "\u001b[0;32m/anaconda3/lib/python3.7/site-packages/sklearn/utils/validation.py\u001b[0m in \u001b[0;36minner_f\u001b[0;34m(*args, **kwargs)\u001b[0m\n\u001b[1;32m     70\u001b[0m                           FutureWarning)\n\u001b[1;32m     71\u001b[0m         \u001b[0mkwargs\u001b[0m\u001b[0;34m.\u001b[0m\u001b[0mupdate\u001b[0m\u001b[0;34m(\u001b[0m\u001b[0;34m{\u001b[0m\u001b[0mk\u001b[0m\u001b[0;34m:\u001b[0m \u001b[0marg\u001b[0m \u001b[0;32mfor\u001b[0m \u001b[0mk\u001b[0m\u001b[0;34m,\u001b[0m \u001b[0marg\u001b[0m \u001b[0;32min\u001b[0m \u001b[0mzip\u001b[0m\u001b[0;34m(\u001b[0m\u001b[0msig\u001b[0m\u001b[0;34m.\u001b[0m\u001b[0mparameters\u001b[0m\u001b[0;34m,\u001b[0m \u001b[0margs\u001b[0m\u001b[0;34m)\u001b[0m\u001b[0;34m}\u001b[0m\u001b[0;34m)\u001b[0m\u001b[0;34m\u001b[0m\u001b[0;34m\u001b[0m\u001b[0m\n\u001b[0;32m---> 72\u001b[0;31m         \u001b[0;32mreturn\u001b[0m \u001b[0mf\u001b[0m\u001b[0;34m(\u001b[0m\u001b[0;34m**\u001b[0m\u001b[0mkwargs\u001b[0m\u001b[0;34m)\u001b[0m\u001b[0;34m\u001b[0m\u001b[0;34m\u001b[0m\u001b[0m\n\u001b[0m\u001b[1;32m     73\u001b[0m     \u001b[0;32mreturn\u001b[0m \u001b[0minner_f\u001b[0m\u001b[0;34m\u001b[0m\u001b[0;34m\u001b[0m\u001b[0m\n\u001b[1;32m     74\u001b[0m \u001b[0;34m\u001b[0m\u001b[0m\n",
      "\u001b[0;32m/anaconda3/lib/python3.7/site-packages/sklearn/metrics/_classification.py\u001b[0m in \u001b[0;36maccuracy_score\u001b[0;34m(y_true, y_pred, normalize, sample_weight)\u001b[0m\n\u001b[1;32m    185\u001b[0m \u001b[0;34m\u001b[0m\u001b[0m\n\u001b[1;32m    186\u001b[0m     \u001b[0;31m# Compute accuracy for each possible representation\u001b[0m\u001b[0;34m\u001b[0m\u001b[0;34m\u001b[0m\u001b[0;34m\u001b[0m\u001b[0m\n\u001b[0;32m--> 187\u001b[0;31m     \u001b[0my_type\u001b[0m\u001b[0;34m,\u001b[0m \u001b[0my_true\u001b[0m\u001b[0;34m,\u001b[0m \u001b[0my_pred\u001b[0m \u001b[0;34m=\u001b[0m \u001b[0m_check_targets\u001b[0m\u001b[0;34m(\u001b[0m\u001b[0my_true\u001b[0m\u001b[0;34m,\u001b[0m \u001b[0my_pred\u001b[0m\u001b[0;34m)\u001b[0m\u001b[0;34m\u001b[0m\u001b[0;34m\u001b[0m\u001b[0m\n\u001b[0m\u001b[1;32m    188\u001b[0m     \u001b[0mcheck_consistent_length\u001b[0m\u001b[0;34m(\u001b[0m\u001b[0my_true\u001b[0m\u001b[0;34m,\u001b[0m \u001b[0my_pred\u001b[0m\u001b[0;34m,\u001b[0m \u001b[0msample_weight\u001b[0m\u001b[0;34m)\u001b[0m\u001b[0;34m\u001b[0m\u001b[0;34m\u001b[0m\u001b[0m\n\u001b[1;32m    189\u001b[0m     \u001b[0;32mif\u001b[0m \u001b[0my_type\u001b[0m\u001b[0;34m.\u001b[0m\u001b[0mstartswith\u001b[0m\u001b[0;34m(\u001b[0m\u001b[0;34m'multilabel'\u001b[0m\u001b[0;34m)\u001b[0m\u001b[0;34m:\u001b[0m\u001b[0;34m\u001b[0m\u001b[0;34m\u001b[0m\u001b[0m\n",
      "\u001b[0;32m/anaconda3/lib/python3.7/site-packages/sklearn/metrics/_classification.py\u001b[0m in \u001b[0;36m_check_targets\u001b[0;34m(y_true, y_pred)\u001b[0m\n\u001b[1;32m     89\u001b[0m     \u001b[0;32mif\u001b[0m \u001b[0mlen\u001b[0m\u001b[0;34m(\u001b[0m\u001b[0my_type\u001b[0m\u001b[0;34m)\u001b[0m \u001b[0;34m>\u001b[0m \u001b[0;36m1\u001b[0m\u001b[0;34m:\u001b[0m\u001b[0;34m\u001b[0m\u001b[0;34m\u001b[0m\u001b[0m\n\u001b[1;32m     90\u001b[0m         raise ValueError(\"Classification metrics can't handle a mix of {0} \"\n\u001b[0;32m---> 91\u001b[0;31m                          \"and {1} targets\".format(type_true, type_pred))\n\u001b[0m\u001b[1;32m     92\u001b[0m \u001b[0;34m\u001b[0m\u001b[0m\n\u001b[1;32m     93\u001b[0m     \u001b[0;31m# We can't have more than one value on y_type => The set is no more needed\u001b[0m\u001b[0;34m\u001b[0m\u001b[0;34m\u001b[0m\u001b[0;34m\u001b[0m\u001b[0m\n",
      "\u001b[0;31mValueError\u001b[0m: Classification metrics can't handle a mix of binary and continuous targets"
     ]
    }
   ],
   "source": [
    "accuracy = accuracy_score(y_test, y_pred)\n",
    "print(f\"accuracy score: {accuracy:}\")"
   ]
  },
  {
   "cell_type": "code",
   "execution_count": null,
   "metadata": {},
   "outputs": [],
   "source": []
  }
 ],
 "metadata": {
  "kernelspec": {
   "display_name": "Python 3",
   "language": "python",
   "name": "python3"
  },
  "language_info": {
   "codemirror_mode": {
    "name": "ipython",
    "version": 3
   },
   "file_extension": ".py",
   "mimetype": "text/x-python",
   "name": "python",
   "nbconvert_exporter": "python",
   "pygments_lexer": "ipython3",
   "version": "3.7.7"
  },
  "toc": {
   "base_numbering": 1,
   "nav_menu": {},
   "number_sections": true,
   "sideBar": true,
   "skip_h1_title": false,
   "title_cell": "Table of Contents",
   "title_sidebar": "Contents",
   "toc_cell": false,
   "toc_position": {},
   "toc_section_display": true,
   "toc_window_display": false
  }
 },
 "nbformat": 4,
 "nbformat_minor": 4
}
