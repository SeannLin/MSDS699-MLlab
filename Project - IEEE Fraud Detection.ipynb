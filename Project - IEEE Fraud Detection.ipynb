{
 "cells": [
  {
   "cell_type": "markdown",
   "metadata": {},
   "source": [
    "# Name (as it appears on Canvas)"
   ]
  },
  {
   "cell_type": "markdown",
   "metadata": {
    "ExecuteTime": {
     "end_time": "2021-02-21T01:55:29.571058Z",
     "start_time": "2021-02-21T01:55:29.566930Z"
    }
   },
   "source": [
    "Hsaunyu Sean Lin"
   ]
  },
  {
   "cell_type": "markdown",
   "metadata": {},
   "source": [
    "# Research Question / Hypothesis"
   ]
  },
  {
   "cell_type": "markdown",
   "metadata": {},
   "source": [
    "IEEE - Fraud Detection:\n",
    "\n",
    "use the data features to see if the transaction is fraudulent"
   ]
  },
  {
   "cell_type": "markdown",
   "metadata": {},
   "source": [
    "# Load Data"
   ]
  },
  {
   "cell_type": "code",
   "execution_count": 2,
   "metadata": {
    "ExecuteTime": {
     "end_time": "2021-03-12T21:15:46.904376Z",
     "start_time": "2021-03-12T21:15:45.274057Z"
    }
   },
   "outputs": [],
   "source": [
    "import numpy as np\n",
    "import pandas as pd\n",
    "pd.set_option('display.max_column', 100)\n",
    "\n",
    "from sklearn.model_selection import train_test_split, RandomizedSearchCV\n",
    "from sklearn.ensemble import RandomForestClassifier, ExtraTreesClassifier\n",
    "from sklearn.pipeline import Pipeline\n",
    "from sklearn.base import BaseEstimator\n",
    "from sklearn.decomposition import PCA\n",
    "from sklearn.preprocessing import StandardScaler, FunctionTransformer, OneHotEncoder\n",
    "from sklearn.impute import SimpleImputer\n",
    "from sklearn.compose import *\n",
    "from sklearn.metrics import f1_score, accuracy_score\n",
    "from sklearn import set_config"
   ]
  },
  {
   "cell_type": "code",
   "execution_count": 3,
   "metadata": {
    "ExecuteTime": {
     "end_time": "2021-03-12T21:16:11.493386Z",
     "start_time": "2021-03-12T21:15:46.905952Z"
    }
   },
   "outputs": [],
   "source": [
    "# Load data\n",
    "path = \"./data/\"\n",
    "df = pd.read_csv(path + \"train.csv\", header=0)\n",
    "if 'Unnamed: 0' in df.columns:\n",
    "    df.drop(['Unnamed: 0'], axis=1)"
   ]
  },
  {
   "cell_type": "code",
   "execution_count": 4,
   "metadata": {
    "ExecuteTime": {
     "end_time": "2021-03-12T21:16:11.599345Z",
     "start_time": "2021-03-12T21:16:11.499630Z"
    }
   },
   "outputs": [
    {
     "data": {
      "text/html": [
       "<div>\n",
       "<style scoped>\n",
       "    .dataframe tbody tr th:only-of-type {\n",
       "        vertical-align: middle;\n",
       "    }\n",
       "\n",
       "    .dataframe tbody tr th {\n",
       "        vertical-align: top;\n",
       "    }\n",
       "\n",
       "    .dataframe thead th {\n",
       "        text-align: right;\n",
       "    }\n",
       "</style>\n",
       "<table border=\"1\" class=\"dataframe\">\n",
       "  <thead>\n",
       "    <tr style=\"text-align: right;\">\n",
       "      <th></th>\n",
       "      <th>TransactionID</th>\n",
       "      <th>isFraud</th>\n",
       "      <th>TransactionDT</th>\n",
       "      <th>TransactionAmt</th>\n",
       "      <th>ProductCD</th>\n",
       "      <th>card1</th>\n",
       "      <th>card2</th>\n",
       "      <th>card3</th>\n",
       "      <th>card4</th>\n",
       "      <th>card5</th>\n",
       "      <th>card6</th>\n",
       "      <th>addr1</th>\n",
       "      <th>addr2</th>\n",
       "      <th>dist1</th>\n",
       "      <th>dist2</th>\n",
       "      <th>P_emaildomain</th>\n",
       "      <th>R_emaildomain</th>\n",
       "      <th>C1</th>\n",
       "      <th>C2</th>\n",
       "      <th>C3</th>\n",
       "      <th>C4</th>\n",
       "      <th>C5</th>\n",
       "      <th>C6</th>\n",
       "      <th>C7</th>\n",
       "      <th>C8</th>\n",
       "      <th>C9</th>\n",
       "      <th>C10</th>\n",
       "      <th>C11</th>\n",
       "      <th>C12</th>\n",
       "      <th>C13</th>\n",
       "      <th>C14</th>\n",
       "      <th>D1</th>\n",
       "      <th>D2</th>\n",
       "      <th>D3</th>\n",
       "      <th>D4</th>\n",
       "      <th>D5</th>\n",
       "      <th>D6</th>\n",
       "      <th>D7</th>\n",
       "      <th>D8</th>\n",
       "      <th>D9</th>\n",
       "      <th>D10</th>\n",
       "      <th>D11</th>\n",
       "      <th>D12</th>\n",
       "      <th>D13</th>\n",
       "      <th>D14</th>\n",
       "      <th>D15</th>\n",
       "      <th>M1</th>\n",
       "      <th>M2</th>\n",
       "      <th>M3</th>\n",
       "      <th>M4</th>\n",
       "      <th>...</th>\n",
       "      <th>V290</th>\n",
       "      <th>V291</th>\n",
       "      <th>V292</th>\n",
       "      <th>V293</th>\n",
       "      <th>V294</th>\n",
       "      <th>V295</th>\n",
       "      <th>V296</th>\n",
       "      <th>V297</th>\n",
       "      <th>V298</th>\n",
       "      <th>V299</th>\n",
       "      <th>V300</th>\n",
       "      <th>V301</th>\n",
       "      <th>V302</th>\n",
       "      <th>V303</th>\n",
       "      <th>V304</th>\n",
       "      <th>V305</th>\n",
       "      <th>V306</th>\n",
       "      <th>V307</th>\n",
       "      <th>V308</th>\n",
       "      <th>V309</th>\n",
       "      <th>V310</th>\n",
       "      <th>V311</th>\n",
       "      <th>V312</th>\n",
       "      <th>V313</th>\n",
       "      <th>V314</th>\n",
       "      <th>V315</th>\n",
       "      <th>V316</th>\n",
       "      <th>V317</th>\n",
       "      <th>V318</th>\n",
       "      <th>V319</th>\n",
       "      <th>V320</th>\n",
       "      <th>V321</th>\n",
       "      <th>V322</th>\n",
       "      <th>V323</th>\n",
       "      <th>V324</th>\n",
       "      <th>V325</th>\n",
       "      <th>V326</th>\n",
       "      <th>V327</th>\n",
       "      <th>V328</th>\n",
       "      <th>V329</th>\n",
       "      <th>V330</th>\n",
       "      <th>V331</th>\n",
       "      <th>V332</th>\n",
       "      <th>V333</th>\n",
       "      <th>V334</th>\n",
       "      <th>V335</th>\n",
       "      <th>V336</th>\n",
       "      <th>V337</th>\n",
       "      <th>V338</th>\n",
       "      <th>V339</th>\n",
       "    </tr>\n",
       "  </thead>\n",
       "  <tbody>\n",
       "    <tr>\n",
       "      <th>0</th>\n",
       "      <td>2987000</td>\n",
       "      <td>0</td>\n",
       "      <td>86400</td>\n",
       "      <td>68.5</td>\n",
       "      <td>W</td>\n",
       "      <td>13926</td>\n",
       "      <td>NaN</td>\n",
       "      <td>150.0</td>\n",
       "      <td>discover</td>\n",
       "      <td>142.0</td>\n",
       "      <td>credit</td>\n",
       "      <td>315.0</td>\n",
       "      <td>87.0</td>\n",
       "      <td>19.0</td>\n",
       "      <td>NaN</td>\n",
       "      <td>NaN</td>\n",
       "      <td>NaN</td>\n",
       "      <td>1.0</td>\n",
       "      <td>1.0</td>\n",
       "      <td>0.0</td>\n",
       "      <td>0.0</td>\n",
       "      <td>0.0</td>\n",
       "      <td>1.0</td>\n",
       "      <td>0.0</td>\n",
       "      <td>0.0</td>\n",
       "      <td>1.0</td>\n",
       "      <td>0.0</td>\n",
       "      <td>2.0</td>\n",
       "      <td>0.0</td>\n",
       "      <td>1.0</td>\n",
       "      <td>1.0</td>\n",
       "      <td>14.0</td>\n",
       "      <td>NaN</td>\n",
       "      <td>13.0</td>\n",
       "      <td>NaN</td>\n",
       "      <td>NaN</td>\n",
       "      <td>NaN</td>\n",
       "      <td>NaN</td>\n",
       "      <td>NaN</td>\n",
       "      <td>NaN</td>\n",
       "      <td>13.0</td>\n",
       "      <td>13.0</td>\n",
       "      <td>NaN</td>\n",
       "      <td>NaN</td>\n",
       "      <td>NaN</td>\n",
       "      <td>0.0</td>\n",
       "      <td>T</td>\n",
       "      <td>T</td>\n",
       "      <td>T</td>\n",
       "      <td>M2</td>\n",
       "      <td>...</td>\n",
       "      <td>1.0</td>\n",
       "      <td>1.0</td>\n",
       "      <td>1.0</td>\n",
       "      <td>0.0</td>\n",
       "      <td>1.0</td>\n",
       "      <td>0.0</td>\n",
       "      <td>0.0</td>\n",
       "      <td>0.0</td>\n",
       "      <td>0.0</td>\n",
       "      <td>0.0</td>\n",
       "      <td>0.0</td>\n",
       "      <td>0.0</td>\n",
       "      <td>0.0</td>\n",
       "      <td>0.0</td>\n",
       "      <td>0.0</td>\n",
       "      <td>1.0</td>\n",
       "      <td>0.0</td>\n",
       "      <td>117.0</td>\n",
       "      <td>0.0</td>\n",
       "      <td>0.0</td>\n",
       "      <td>0.0</td>\n",
       "      <td>0.0</td>\n",
       "      <td>0.0</td>\n",
       "      <td>0.0</td>\n",
       "      <td>0.0</td>\n",
       "      <td>0.0</td>\n",
       "      <td>0.0</td>\n",
       "      <td>117.0</td>\n",
       "      <td>0.0</td>\n",
       "      <td>0.0</td>\n",
       "      <td>0.0</td>\n",
       "      <td>0.0</td>\n",
       "      <td>NaN</td>\n",
       "      <td>NaN</td>\n",
       "      <td>NaN</td>\n",
       "      <td>NaN</td>\n",
       "      <td>NaN</td>\n",
       "      <td>NaN</td>\n",
       "      <td>NaN</td>\n",
       "      <td>NaN</td>\n",
       "      <td>NaN</td>\n",
       "      <td>NaN</td>\n",
       "      <td>NaN</td>\n",
       "      <td>NaN</td>\n",
       "      <td>NaN</td>\n",
       "      <td>NaN</td>\n",
       "      <td>NaN</td>\n",
       "      <td>NaN</td>\n",
       "      <td>NaN</td>\n",
       "      <td>NaN</td>\n",
       "    </tr>\n",
       "  </tbody>\n",
       "</table>\n",
       "<p>1 rows × 394 columns</p>\n",
       "</div>"
      ],
      "text/plain": [
       "   TransactionID  isFraud  TransactionDT  TransactionAmt ProductCD  card1  \\\n",
       "0        2987000        0          86400            68.5         W  13926   \n",
       "\n",
       "   card2  card3     card4  card5   card6  addr1  addr2  dist1  dist2  \\\n",
       "0    NaN  150.0  discover  142.0  credit  315.0   87.0   19.0    NaN   \n",
       "\n",
       "  P_emaildomain R_emaildomain   C1   C2   C3   C4   C5   C6   C7   C8   C9  \\\n",
       "0           NaN           NaN  1.0  1.0  0.0  0.0  0.0  1.0  0.0  0.0  1.0   \n",
       "\n",
       "   C10  C11  C12  C13  C14    D1  D2    D3  D4  D5  D6  D7  D8  D9   D10  \\\n",
       "0  0.0  2.0  0.0  1.0  1.0  14.0 NaN  13.0 NaN NaN NaN NaN NaN NaN  13.0   \n",
       "\n",
       "    D11  D12  D13  D14  D15 M1 M2 M3  M4  ... V290 V291 V292 V293 V294  V295  \\\n",
       "0  13.0  NaN  NaN  NaN  0.0  T  T  T  M2  ...  1.0  1.0  1.0  0.0  1.0   0.0   \n",
       "\n",
       "   V296  V297  V298  V299  V300  V301  V302  V303  V304  V305  V306   V307  \\\n",
       "0   0.0   0.0   0.0   0.0   0.0   0.0   0.0   0.0   0.0   1.0   0.0  117.0   \n",
       "\n",
       "   V308  V309  V310  V311  V312  V313  V314  V315  V316   V317  V318  V319  \\\n",
       "0   0.0   0.0   0.0   0.0   0.0   0.0   0.0   0.0   0.0  117.0   0.0   0.0   \n",
       "\n",
       "   V320  V321  V322  V323  V324  V325  V326  V327  V328  V329  V330  V331  \\\n",
       "0   0.0   0.0   NaN   NaN   NaN   NaN   NaN   NaN   NaN   NaN   NaN   NaN   \n",
       "\n",
       "   V332  V333  V334  V335  V336  V337  V338  V339  \n",
       "0   NaN   NaN   NaN   NaN   NaN   NaN   NaN   NaN  \n",
       "\n",
       "[1 rows x 394 columns]"
      ]
     },
     "execution_count": 4,
     "metadata": {},
     "output_type": "execute_result"
    }
   ],
   "source": [
    "# Show the first line\n",
    "df.head(1)"
   ]
  },
  {
   "cell_type": "code",
   "execution_count": 5,
   "metadata": {
    "ExecuteTime": {
     "end_time": "2021-03-12T21:16:11.690568Z",
     "start_time": "2021-03-12T21:16:11.601268Z"
    }
   },
   "outputs": [],
   "source": [
    "X = df[['TransactionID', 'TransactionDT', 'TransactionAmt', 'card1', 'card2', 'card3', 'card5', 'addr1', 'addr2']] # card4 NAN\n",
    "y = df[['isFraud']].values.ravel()"
   ]
  },
  {
   "cell_type": "code",
   "execution_count": 7,
   "metadata": {
    "ExecuteTime": {
     "end_time": "2021-03-12T21:16:11.922900Z",
     "start_time": "2021-03-12T21:16:11.822908Z"
    }
   },
   "outputs": [],
   "source": [
    "X_train, X_test, y_train, y_test = train_test_split(X, y, test_size=0.1, shuffle=True)"
   ]
  },
  {
   "cell_type": "markdown",
   "metadata": {},
   "source": [
    "# Feature Engineering"
   ]
  },
  {
   "cell_type": "code",
   "execution_count": 8,
   "metadata": {
    "ExecuteTime": {
     "end_time": "2021-03-12T21:16:11.930690Z",
     "start_time": "2021-03-12T21:16:11.926365Z"
    }
   },
   "outputs": [],
   "source": [
    "tran_num = FunctionTransformer(np.log1p, validate=False)\n",
    "imp_num = SimpleImputer(missing_values=np.nan, strategy='median', add_indicator=True)\n",
    "pipe_num = Pipeline([('scalar', tran_num), ('imputer', imp_num)])"
   ]
  },
  {
   "cell_type": "code",
   "execution_count": 9,
   "metadata": {
    "ExecuteTime": {
     "end_time": "2021-03-12T21:16:11.969359Z",
     "start_time": "2021-03-12T21:16:11.932988Z"
    }
   },
   "outputs": [],
   "source": [
    "cols_cat = (X.dtypes == object)\n",
    "\n",
    "preprocessing = ColumnTransformer([('numerical data',  pipe_num, ~cols_cat)])"
   ]
  },
  {
   "cell_type": "code",
   "execution_count": 10,
   "metadata": {
    "ExecuteTime": {
     "end_time": "2021-03-12T21:16:11.977390Z",
     "start_time": "2021-03-12T21:16:11.973445Z"
    }
   },
   "outputs": [],
   "source": [
    "class DummyEstimator(BaseEstimator):\n",
    "    \"Pass through class, methods are present but do nothing.\"\n",
    "    def fit(self): pass\n",
    "    def score(self): pass"
   ]
  },
  {
   "cell_type": "code",
   "execution_count": 11,
   "metadata": {
    "ExecuteTime": {
     "end_time": "2021-03-12T21:16:12.276535Z",
     "start_time": "2021-03-12T21:16:11.978878Z"
    }
   },
   "outputs": [
    {
     "data": {
      "text/html": [
       "<style>div.sk-top-container {color: black;background-color: white;}div.sk-toggleable {background-color: white;}label.sk-toggleable__label {cursor: pointer;display: block;width: 100%;margin-bottom: 0;padding: 0.2em 0.3em;box-sizing: border-box;text-align: center;}div.sk-toggleable__content {max-height: 0;max-width: 0;overflow: hidden;text-align: left;background-color: #f0f8ff;}div.sk-toggleable__content pre {margin: 0.2em;color: black;border-radius: 0.25em;background-color: #f0f8ff;}input.sk-toggleable__control:checked~div.sk-toggleable__content {max-height: 200px;max-width: 100%;overflow: auto;}div.sk-estimator input.sk-toggleable__control:checked~label.sk-toggleable__label {background-color: #d4ebff;}div.sk-label input.sk-toggleable__control:checked~label.sk-toggleable__label {background-color: #d4ebff;}input.sk-hidden--visually {border: 0;clip: rect(1px 1px 1px 1px);clip: rect(1px, 1px, 1px, 1px);height: 1px;margin: -1px;overflow: hidden;padding: 0;position: absolute;width: 1px;}div.sk-estimator {font-family: monospace;background-color: #f0f8ff;margin: 0.25em 0.25em;border: 1px dotted black;border-radius: 0.25em;box-sizing: border-box;}div.sk-estimator:hover {background-color: #d4ebff;}div.sk-parallel-item::after {content: \"\";width: 100%;border-bottom: 1px solid gray;flex-grow: 1;}div.sk-label:hover label.sk-toggleable__label {background-color: #d4ebff;}div.sk-serial::before {content: \"\";position: absolute;border-left: 1px solid gray;box-sizing: border-box;top: 2em;bottom: 0;left: 50%;}div.sk-serial {display: flex;flex-direction: column;align-items: center;background-color: white;}div.sk-item {z-index: 1;}div.sk-parallel {display: flex;align-items: stretch;justify-content: center;background-color: white;}div.sk-parallel-item {display: flex;flex-direction: column;position: relative;background-color: white;}div.sk-parallel-item:first-child::after {align-self: flex-end;width: 50%;}div.sk-parallel-item:last-child::after {align-self: flex-start;width: 50%;}div.sk-parallel-item:only-child::after {width: 0;}div.sk-dashed-wrapped {border: 1px dashed gray;margin: 0.2em;box-sizing: border-box;padding-bottom: 0.1em;background-color: white;position: relative;}div.sk-label label {font-family: monospace;font-weight: bold;background-color: white;display: inline-block;line-height: 1.2em;}div.sk-label-container {position: relative;z-index: 2;text-align: center;}div.sk-container {display: inline-block;position: relative;}</style><div class=\"sk-top-container\"><div class=\"sk-container\"><div class=\"sk-item sk-dashed-wrapped\"><div class=\"sk-label-container\"><div class=\"sk-label sk-toggleable\"><input class=\"sk-toggleable__control sk-hidden--visually\" id=\"b255d1ee-a845-47c4-a145-9a7f2b3deaf4\" type=\"checkbox\" ><label class=\"sk-toggleable__label\" for=\"b255d1ee-a845-47c4-a145-9a7f2b3deaf4\">Pipeline</label><div class=\"sk-toggleable__content\"><pre>Pipeline(steps=[('Sca', StandardScaler()),\n",
       "                ('preprocessing',\n",
       "                 ColumnTransformer(transformers=[('numerical data',\n",
       "                                                  Pipeline(steps=[('scalar',\n",
       "                                                                   FunctionTransformer(func=<ufunc 'log1p'>)),\n",
       "                                                                  ('imputer',\n",
       "                                                                   SimpleImputer(add_indicator=True,\n",
       "                                                                                 strategy='median'))]),\n",
       "                                                  TransactionID     True\n",
       "TransactionDT     True\n",
       "TransactionAmt    True\n",
       "card1             True\n",
       "card2             True\n",
       "card3             True\n",
       "card5             True\n",
       "addr1             True\n",
       "addr2             True\n",
       "dtype: bool)])),\n",
       "                ('clf', DummyEstimator())])</pre></div></div></div><div class=\"sk-serial\"><div class=\"sk-item\"><div class=\"sk-estimator sk-toggleable\"><input class=\"sk-toggleable__control sk-hidden--visually\" id=\"72b81b4d-a68a-4906-894f-bb8d6d13807e\" type=\"checkbox\" ><label class=\"sk-toggleable__label\" for=\"72b81b4d-a68a-4906-894f-bb8d6d13807e\">StandardScaler</label><div class=\"sk-toggleable__content\"><pre>StandardScaler()</pre></div></div></div><div class=\"sk-item sk-dashed-wrapped\"><div class=\"sk-label-container\"><div class=\"sk-label sk-toggleable\"><input class=\"sk-toggleable__control sk-hidden--visually\" id=\"47c214c0-9f5d-4bf2-a395-5fc99cc3ee77\" type=\"checkbox\" ><label class=\"sk-toggleable__label\" for=\"47c214c0-9f5d-4bf2-a395-5fc99cc3ee77\">preprocessing: ColumnTransformer</label><div class=\"sk-toggleable__content\"><pre>ColumnTransformer(transformers=[('numerical data',\n",
       "                                 Pipeline(steps=[('scalar',\n",
       "                                                  FunctionTransformer(func=<ufunc 'log1p'>)),\n",
       "                                                 ('imputer',\n",
       "                                                  SimpleImputer(add_indicator=True,\n",
       "                                                                strategy='median'))]),\n",
       "                                 TransactionID     True\n",
       "TransactionDT     True\n",
       "TransactionAmt    True\n",
       "card1             True\n",
       "card2             True\n",
       "card3             True\n",
       "card5             True\n",
       "addr1             True\n",
       "addr2             True\n",
       "dtype: bool)])</pre></div></div></div><div class=\"sk-parallel\"><div class=\"sk-parallel-item\"><div class=\"sk-item\"><div class=\"sk-label-container\"><div class=\"sk-label sk-toggleable\"><input class=\"sk-toggleable__control sk-hidden--visually\" id=\"98bfeb21-a6c7-4a00-9c0b-fe95e11ad310\" type=\"checkbox\" ><label class=\"sk-toggleable__label\" for=\"98bfeb21-a6c7-4a00-9c0b-fe95e11ad310\">numerical data</label><div class=\"sk-toggleable__content\"><pre>TransactionID     True\n",
       "TransactionDT     True\n",
       "TransactionAmt    True\n",
       "card1             True\n",
       "card2             True\n",
       "card3             True\n",
       "card5             True\n",
       "addr1             True\n",
       "addr2             True\n",
       "dtype: bool</pre></div></div></div><div class=\"sk-serial\"><div class=\"sk-item\"><div class=\"sk-serial\"><div class=\"sk-item\"><div class=\"sk-estimator sk-toggleable\"><input class=\"sk-toggleable__control sk-hidden--visually\" id=\"cb900ff3-0ade-46a3-a194-b1cb4cd938ee\" type=\"checkbox\" ><label class=\"sk-toggleable__label\" for=\"cb900ff3-0ade-46a3-a194-b1cb4cd938ee\">FunctionTransformer</label><div class=\"sk-toggleable__content\"><pre>FunctionTransformer(func=<ufunc 'log1p'>)</pre></div></div></div><div class=\"sk-item\"><div class=\"sk-estimator sk-toggleable\"><input class=\"sk-toggleable__control sk-hidden--visually\" id=\"518de93e-34c5-4a6a-8f47-6c6fa23bc2dd\" type=\"checkbox\" ><label class=\"sk-toggleable__label\" for=\"518de93e-34c5-4a6a-8f47-6c6fa23bc2dd\">SimpleImputer</label><div class=\"sk-toggleable__content\"><pre>SimpleImputer(add_indicator=True, strategy='median')</pre></div></div></div></div></div></div></div></div></div></div><div class=\"sk-item\"><div class=\"sk-estimator sk-toggleable\"><input class=\"sk-toggleable__control sk-hidden--visually\" id=\"d69c5807-0375-4aa8-af52-668eb11e5c9d\" type=\"checkbox\" ><label class=\"sk-toggleable__label\" for=\"d69c5807-0375-4aa8-af52-668eb11e5c9d\">DummyEstimator</label><div class=\"sk-toggleable__content\"><pre>DummyEstimator()</pre></div></div></div></div></div></div></div>"
      ],
      "text/plain": [
       "Pipeline(steps=[('Sca', StandardScaler()),\n",
       "                ('preprocessing',\n",
       "                 ColumnTransformer(transformers=[('numerical data',\n",
       "                                                  Pipeline(steps=[('scalar',\n",
       "                                                                   FunctionTransformer(func=<ufunc 'log1p'>)),\n",
       "                                                                  ('imputer',\n",
       "                                                                   SimpleImputer(add_indicator=True,\n",
       "                                                                                 strategy='median'))]),\n",
       "                                                  TransactionID     True\n",
       "TransactionDT     True\n",
       "TransactionAmt    True\n",
       "card1             True\n",
       "card2             True\n",
       "card3             True\n",
       "card5             True\n",
       "addr1             True\n",
       "addr2             True\n",
       "dtype: bool)])),\n",
       "                ('clf', DummyEstimator())])"
      ]
     },
     "execution_count": 11,
     "metadata": {},
     "output_type": "execute_result"
    }
   ],
   "source": [
    "pipe = Pipeline([('Sca', StandardScaler()),\n",
    "                 ('preprocessing', preprocessing),\n",
    "                 ('clf', DummyEstimator())])\n",
    "\n",
    "set_config(display='diagram')\n",
    "pipe "
   ]
  },
  {
   "cell_type": "markdown",
   "metadata": {},
   "source": [
    "# Search the Best Model"
   ]
  },
  {
   "cell_type": "code",
   "execution_count": 12,
   "metadata": {
    "ExecuteTime": {
     "end_time": "2021-03-12T21:16:12.284653Z",
     "start_time": "2021-03-12T21:16:12.278129Z"
    }
   },
   "outputs": [],
   "source": [
    "search_space = [{'clf': [RandomForestClassifier(n_jobs=-1)], # Actual Estimator\n",
    "                 'clf__n_estimators': np.arange(100, 1000, 150),\n",
    "                 'clf__max_features': ['log2','sqrt'],\n",
    "                 'clf__criterion': ['gini', 'entropy'],\n",
    "                 'clf__max_depth' : np.arange(15,25,1),\n",
    "                 'clf__min_samples_leaf': np.arange(1,10,1),\n",
    "                 'clf__class_weight': ['balanced','balanced_subsample',None]\n",
    "                },\n",
    "                \n",
    "                {'clf': [ExtraTreesClassifier()],  # Actual Estimator\n",
    "                 'clf__max_features': ['log2','sqrt'],\n",
    "                 'clf__criterion': ['gini', 'entropy'],\n",
    "                 'clf__max_depth' : np.arange(15,25,1),\n",
    "                 'clf__n_estimators': np.arange(100, 1000, 150),\n",
    "                 'clf__min_samples_leaf': np.arange(1,10,1)\n",
    "                },\n",
    "                 ]\n",
    "\n",
    "clf_algos_rand = RandomizedSearchCV(estimator=pipe, \n",
    "                                    param_distributions=search_space, \n",
    "                                    n_iter=3,\n",
    "                                    cv=3, \n",
    "                                    n_jobs=-1,\n",
    "                                    verbose=10,\n",
    "                                   scoring='f1_weighted')"
   ]
  },
  {
   "cell_type": "code",
   "execution_count": 14,
   "metadata": {
    "ExecuteTime": {
     "end_time": "2021-03-12T21:41:23.754032Z",
     "start_time": "2021-03-12T21:25:57.356793Z"
    }
   },
   "outputs": [
    {
     "name": "stdout",
     "output_type": "stream",
     "text": [
      "Fitting 3 folds for each of 3 candidates, totalling 9 fits\n"
     ]
    },
    {
     "name": "stderr",
     "output_type": "stream",
     "text": [
      "[Parallel(n_jobs=-1)]: Using backend LokyBackend with 8 concurrent workers.\n",
      "[Parallel(n_jobs=-1)]: Done   2 out of   9 | elapsed:  5.3min remaining: 18.5min\n",
      "[Parallel(n_jobs=-1)]: Done   3 out of   9 | elapsed:  5.4min remaining: 10.8min\n",
      "[Parallel(n_jobs=-1)]: Done   4 out of   9 | elapsed:  5.7min remaining:  7.1min\n",
      "[Parallel(n_jobs=-1)]: Done   5 out of   9 | elapsed:  5.7min remaining:  4.5min\n",
      "[Parallel(n_jobs=-1)]: Done   6 out of   9 | elapsed:  5.8min remaining:  2.9min\n",
      "[Parallel(n_jobs=-1)]: Done   7 out of   9 | elapsed: 10.1min remaining:  2.9min\n",
      "[Parallel(n_jobs=-1)]: Done   9 out of   9 | elapsed: 10.4min remaining:    0.0s\n",
      "[Parallel(n_jobs=-1)]: Done   9 out of   9 | elapsed: 10.4min finished\n",
      "/anaconda3/lib/python3.7/site-packages/sklearn/preprocessing/_function_transformer.py:171: RuntimeWarning: invalid value encountered in log1p\n",
      "  return func(X, **(kw_args if kw_args else {}))\n"
     ]
    },
    {
     "name": "stdout",
     "output_type": "stream",
     "text": [
      "ExtraTreesClassifier(max_depth=24, max_features='log2', min_samples_leaf=4,\n",
      "                     n_estimators=850)\n",
      "0.948740400055581\n"
     ]
    }
   ],
   "source": [
    "best_model = clf_algos_rand.fit(X_train, y_train)\n",
    "\n",
    "print(best_model.best_estimator_.get_params()['clf'])\n",
    "print(best_model.best_score_)"
   ]
  },
  {
   "cell_type": "markdown",
   "metadata": {},
   "source": [
    "# Fit scikit-learn model"
   ]
  },
  {
   "cell_type": "code",
   "execution_count": 15,
   "metadata": {
    "ExecuteTime": {
     "end_time": "2021-03-12T22:17:33.277919Z",
     "start_time": "2021-03-12T22:17:33.272710Z"
    }
   },
   "outputs": [],
   "source": [
    "params = {'bootstrap': False,\n",
    " 'ccp_alpha': 0.0,\n",
    " 'class_weight': 'balanced_subsample',\n",
    " 'criterion': 'entropy',\n",
    " 'max_depth': 24,\n",
    " 'max_features': 'log2',\n",
    " 'max_leaf_nodes': None,\n",
    " 'max_samples': None,\n",
    " 'min_impurity_decrease': 0.0,\n",
    " 'min_impurity_split': None,\n",
    " 'min_samples_leaf': 4,\n",
    " 'min_samples_split': 2,\n",
    " 'min_weight_fraction_leaf': 0.0,\n",
    " 'n_estimators': 850,\n",
    " 'n_jobs': -1,\n",
    " 'oob_score': False,\n",
    " 'random_state': None,\n",
    " 'verbose': 0,\n",
    " 'warm_start': False}\n",
    "\n",
    "pipe = Pipeline([('Sca', StandardScaler()),\n",
    "                 ('preprocessing', preprocessing),\n",
    "                 ('clf', ExtraTreesClassifier(**params))])\n",
    "\n",
    "# pipe = Pipeline([('Sca',StandardScaler()),\n",
    "#                  ('impute', SimpleImputer(missing_values=np.nan, strategy='most_frequent')), # median\n",
    "#                  ('clf', DummyEstimator())])"
   ]
  },
  {
   "cell_type": "code",
   "execution_count": 16,
   "metadata": {
    "ExecuteTime": {
     "end_time": "2021-03-12T22:19:48.098759Z",
     "start_time": "2021-03-12T22:17:37.123510Z"
    }
   },
   "outputs": [
    {
     "name": "stderr",
     "output_type": "stream",
     "text": [
      "/anaconda3/lib/python3.7/site-packages/sklearn/preprocessing/_function_transformer.py:171: RuntimeWarning: invalid value encountered in log1p\n",
      "  return func(X, **(kw_args if kw_args else {}))\n"
     ]
    },
    {
     "data": {
      "text/html": [
       "<style>div.sk-top-container {color: black;background-color: white;}div.sk-toggleable {background-color: white;}label.sk-toggleable__label {cursor: pointer;display: block;width: 100%;margin-bottom: 0;padding: 0.2em 0.3em;box-sizing: border-box;text-align: center;}div.sk-toggleable__content {max-height: 0;max-width: 0;overflow: hidden;text-align: left;background-color: #f0f8ff;}div.sk-toggleable__content pre {margin: 0.2em;color: black;border-radius: 0.25em;background-color: #f0f8ff;}input.sk-toggleable__control:checked~div.sk-toggleable__content {max-height: 200px;max-width: 100%;overflow: auto;}div.sk-estimator input.sk-toggleable__control:checked~label.sk-toggleable__label {background-color: #d4ebff;}div.sk-label input.sk-toggleable__control:checked~label.sk-toggleable__label {background-color: #d4ebff;}input.sk-hidden--visually {border: 0;clip: rect(1px 1px 1px 1px);clip: rect(1px, 1px, 1px, 1px);height: 1px;margin: -1px;overflow: hidden;padding: 0;position: absolute;width: 1px;}div.sk-estimator {font-family: monospace;background-color: #f0f8ff;margin: 0.25em 0.25em;border: 1px dotted black;border-radius: 0.25em;box-sizing: border-box;}div.sk-estimator:hover {background-color: #d4ebff;}div.sk-parallel-item::after {content: \"\";width: 100%;border-bottom: 1px solid gray;flex-grow: 1;}div.sk-label:hover label.sk-toggleable__label {background-color: #d4ebff;}div.sk-serial::before {content: \"\";position: absolute;border-left: 1px solid gray;box-sizing: border-box;top: 2em;bottom: 0;left: 50%;}div.sk-serial {display: flex;flex-direction: column;align-items: center;background-color: white;}div.sk-item {z-index: 1;}div.sk-parallel {display: flex;align-items: stretch;justify-content: center;background-color: white;}div.sk-parallel-item {display: flex;flex-direction: column;position: relative;background-color: white;}div.sk-parallel-item:first-child::after {align-self: flex-end;width: 50%;}div.sk-parallel-item:last-child::after {align-self: flex-start;width: 50%;}div.sk-parallel-item:only-child::after {width: 0;}div.sk-dashed-wrapped {border: 1px dashed gray;margin: 0.2em;box-sizing: border-box;padding-bottom: 0.1em;background-color: white;position: relative;}div.sk-label label {font-family: monospace;font-weight: bold;background-color: white;display: inline-block;line-height: 1.2em;}div.sk-label-container {position: relative;z-index: 2;text-align: center;}div.sk-container {display: inline-block;position: relative;}</style><div class=\"sk-top-container\"><div class=\"sk-container\"><div class=\"sk-item sk-dashed-wrapped\"><div class=\"sk-label-container\"><div class=\"sk-label sk-toggleable\"><input class=\"sk-toggleable__control sk-hidden--visually\" id=\"d4c3befe-1ba4-4e85-a603-b3872a428aa3\" type=\"checkbox\" ><label class=\"sk-toggleable__label\" for=\"d4c3befe-1ba4-4e85-a603-b3872a428aa3\">Pipeline</label><div class=\"sk-toggleable__content\"><pre>Pipeline(steps=[('Sca', StandardScaler()),\n",
       "                ('preprocessing',\n",
       "                 ColumnTransformer(transformers=[('numerical data',\n",
       "                                                  Pipeline(steps=[('scalar',\n",
       "                                                                   FunctionTransformer(func=<ufunc 'log1p'>)),\n",
       "                                                                  ('imputer',\n",
       "                                                                   SimpleImputer(add_indicator=True,\n",
       "                                                                                 strategy='median'))]),\n",
       "                                                  TransactionID     True\n",
       "TransactionDT     True\n",
       "TransactionAmt    True\n",
       "card1             True\n",
       "card2             True\n",
       "card3             True\n",
       "card5             True\n",
       "addr1             True\n",
       "addr2             True\n",
       "dtype: bool)])),\n",
       "                ('clf',\n",
       "                 ExtraTreesClassifier(class_weight='balanced_subsample',\n",
       "                                      criterion='entropy', max_depth=24,\n",
       "                                      max_features='log2', min_samples_leaf=4,\n",
       "                                      n_estimators=850, n_jobs=-1))])</pre></div></div></div><div class=\"sk-serial\"><div class=\"sk-item\"><div class=\"sk-estimator sk-toggleable\"><input class=\"sk-toggleable__control sk-hidden--visually\" id=\"6d3c87b5-6a30-4616-94f3-50971d391b05\" type=\"checkbox\" ><label class=\"sk-toggleable__label\" for=\"6d3c87b5-6a30-4616-94f3-50971d391b05\">StandardScaler</label><div class=\"sk-toggleable__content\"><pre>StandardScaler()</pre></div></div></div><div class=\"sk-item sk-dashed-wrapped\"><div class=\"sk-label-container\"><div class=\"sk-label sk-toggleable\"><input class=\"sk-toggleable__control sk-hidden--visually\" id=\"0d274f43-183d-47f2-b55e-068364756823\" type=\"checkbox\" ><label class=\"sk-toggleable__label\" for=\"0d274f43-183d-47f2-b55e-068364756823\">preprocessing: ColumnTransformer</label><div class=\"sk-toggleable__content\"><pre>ColumnTransformer(transformers=[('numerical data',\n",
       "                                 Pipeline(steps=[('scalar',\n",
       "                                                  FunctionTransformer(func=<ufunc 'log1p'>)),\n",
       "                                                 ('imputer',\n",
       "                                                  SimpleImputer(add_indicator=True,\n",
       "                                                                strategy='median'))]),\n",
       "                                 TransactionID     True\n",
       "TransactionDT     True\n",
       "TransactionAmt    True\n",
       "card1             True\n",
       "card2             True\n",
       "card3             True\n",
       "card5             True\n",
       "addr1             True\n",
       "addr2             True\n",
       "dtype: bool)])</pre></div></div></div><div class=\"sk-parallel\"><div class=\"sk-parallel-item\"><div class=\"sk-item\"><div class=\"sk-label-container\"><div class=\"sk-label sk-toggleable\"><input class=\"sk-toggleable__control sk-hidden--visually\" id=\"7fa178a1-e90d-441c-b2ed-bdc15fc27ef3\" type=\"checkbox\" ><label class=\"sk-toggleable__label\" for=\"7fa178a1-e90d-441c-b2ed-bdc15fc27ef3\">numerical data</label><div class=\"sk-toggleable__content\"><pre>TransactionID     True\n",
       "TransactionDT     True\n",
       "TransactionAmt    True\n",
       "card1             True\n",
       "card2             True\n",
       "card3             True\n",
       "card5             True\n",
       "addr1             True\n",
       "addr2             True\n",
       "dtype: bool</pre></div></div></div><div class=\"sk-serial\"><div class=\"sk-item\"><div class=\"sk-serial\"><div class=\"sk-item\"><div class=\"sk-estimator sk-toggleable\"><input class=\"sk-toggleable__control sk-hidden--visually\" id=\"d443654a-0557-49c8-b66e-de7b0cd8310f\" type=\"checkbox\" ><label class=\"sk-toggleable__label\" for=\"d443654a-0557-49c8-b66e-de7b0cd8310f\">FunctionTransformer</label><div class=\"sk-toggleable__content\"><pre>FunctionTransformer(func=<ufunc 'log1p'>)</pre></div></div></div><div class=\"sk-item\"><div class=\"sk-estimator sk-toggleable\"><input class=\"sk-toggleable__control sk-hidden--visually\" id=\"c9518977-8aa0-4b29-a95f-d0d9bb6b7f33\" type=\"checkbox\" ><label class=\"sk-toggleable__label\" for=\"c9518977-8aa0-4b29-a95f-d0d9bb6b7f33\">SimpleImputer</label><div class=\"sk-toggleable__content\"><pre>SimpleImputer(add_indicator=True, strategy='median')</pre></div></div></div></div></div></div></div></div></div></div><div class=\"sk-item\"><div class=\"sk-estimator sk-toggleable\"><input class=\"sk-toggleable__control sk-hidden--visually\" id=\"4adbb0d2-41a8-41ce-88d8-ff1563f82436\" type=\"checkbox\" ><label class=\"sk-toggleable__label\" for=\"4adbb0d2-41a8-41ce-88d8-ff1563f82436\">ExtraTreesClassifier</label><div class=\"sk-toggleable__content\"><pre>ExtraTreesClassifier(class_weight='balanced_subsample', criterion='entropy',\n",
       "                     max_depth=24, max_features='log2', min_samples_leaf=4,\n",
       "                     n_estimators=850, n_jobs=-1)</pre></div></div></div></div></div></div></div>"
      ],
      "text/plain": [
       "Pipeline(steps=[('Sca', StandardScaler()),\n",
       "                ('preprocessing',\n",
       "                 ColumnTransformer(transformers=[('numerical data',\n",
       "                                                  Pipeline(steps=[('scalar',\n",
       "                                                                   FunctionTransformer(func=<ufunc 'log1p'>)),\n",
       "                                                                  ('imputer',\n",
       "                                                                   SimpleImputer(add_indicator=True,\n",
       "                                                                                 strategy='median'))]),\n",
       "                                                  TransactionID     True\n",
       "TransactionDT     True\n",
       "TransactionAmt    True\n",
       "card1             True\n",
       "card2             True\n",
       "card3             True\n",
       "card5             True\n",
       "addr1             True\n",
       "addr2             True\n",
       "dtype: bool)])),\n",
       "                ('clf',\n",
       "                 ExtraTreesClassifier(class_weight='balanced_subsample',\n",
       "                                      criterion='entropy', max_depth=24,\n",
       "                                      max_features='log2', min_samples_leaf=4,\n",
       "                                      n_estimators=850, n_jobs=-1))])"
      ]
     },
     "execution_count": 16,
     "metadata": {},
     "output_type": "execute_result"
    }
   ],
   "source": [
    "pipe.fit(X_train, y_train)"
   ]
  },
  {
   "cell_type": "code",
   "execution_count": 17,
   "metadata": {
    "ExecuteTime": {
     "end_time": "2021-03-12T22:19:50.117173Z",
     "start_time": "2021-03-12T22:19:48.100411Z"
    }
   },
   "outputs": [
    {
     "name": "stderr",
     "output_type": "stream",
     "text": [
      "/anaconda3/lib/python3.7/site-packages/sklearn/preprocessing/_function_transformer.py:171: RuntimeWarning: invalid value encountered in log1p\n",
      "  return func(X, **(kw_args if kw_args else {}))\n"
     ]
    }
   ],
   "source": [
    "y_pred = pipe.predict(X_test)"
   ]
  },
  {
   "cell_type": "markdown",
   "metadata": {},
   "source": [
    "# Evaluation Metric"
   ]
  },
  {
   "cell_type": "code",
   "execution_count": 18,
   "metadata": {
    "ExecuteTime": {
     "end_time": "2021-03-12T22:20:29.181965Z",
     "start_time": "2021-03-12T22:20:29.174139Z"
    }
   },
   "outputs": [
    {
     "name": "stdout",
     "output_type": "stream",
     "text": [
      "accuracy score: 0.878\n"
     ]
    }
   ],
   "source": [
    "acc = accuracy_score(y_test, y_pred)\n",
    "print(f\"accuracy score: {acc:.3f}\")"
   ]
  },
  {
   "cell_type": "code",
   "execution_count": 19,
   "metadata": {
    "ExecuteTime": {
     "end_time": "2021-03-12T22:20:33.231971Z",
     "start_time": "2021-03-12T22:20:33.214343Z"
    }
   },
   "outputs": [
    {
     "name": "stdout",
     "output_type": "stream",
     "text": [
      "f1 score: 0.911\n"
     ]
    }
   ],
   "source": [
    "f1 = f1_score(y_test, y_pred, average='weighted')\n",
    "print(f\"f1 score: {f1:.3f}\")"
   ]
  }
 ],
 "metadata": {
  "kernelspec": {
   "display_name": "Python 3",
   "language": "python",
   "name": "python3"
  },
  "language_info": {
   "codemirror_mode": {
    "name": "ipython",
    "version": 3
   },
   "file_extension": ".py",
   "mimetype": "text/x-python",
   "name": "python",
   "nbconvert_exporter": "python",
   "pygments_lexer": "ipython3",
   "version": "3.7.7"
  },
  "toc": {
   "base_numbering": 1,
   "nav_menu": {},
   "number_sections": true,
   "sideBar": true,
   "skip_h1_title": false,
   "title_cell": "Table of Contents",
   "title_sidebar": "Contents",
   "toc_cell": false,
   "toc_position": {},
   "toc_section_display": true,
   "toc_window_display": false
  }
 },
 "nbformat": 4,
 "nbformat_minor": 4
}
